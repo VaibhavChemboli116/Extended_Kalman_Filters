{
 "cells": [
  {
   "cell_type": "markdown",
   "id": "36b86299",
   "metadata": {
    "id": "DHaYpPDBMr0k",
    "papermill": {
     "duration": 0.019189,
     "end_time": "2025-10-23T01:34:42.437888",
     "exception": false,
     "start_time": "2025-10-23T01:34:42.418699",
     "status": "completed"
    },
    "tags": []
   },
   "source": [
    "jax 0.5.2 -> 0.5.3\n",
    "jaxlib 0.5.1 -> 0.5.3\n",
    "\n",
    "Just In Time Compilation(JIT)- J-byte code\n",
    "Automatic Differentiation- A\n",
    "XLA (Accelerated Linear Algebra - X\n",
    "\n",
    "jax arrays are immutable\n",
    "jax has asynchrounus dispatch- gives control to python as qucickly as possible\n",
    "\n",
    "\n",
    "#Just In Time Compilation(JIT)-byte code\n",
    "@jax.jit\n",
    "can be used for a funtion, but cannot be used for all functions, if the parameter is used for condition ex: f(x) with if x%==0 else\n",
    "jax.make_jaxpr helps to see the intermediate representation\n",
    "\n",
    "\n",
    "#Automatic Differentiation-\n",
    "\n",
    "jax.grad(f(x))(value) -> f'(x)\n",
    "\n",
    "print(f(x, y, z))\n",
    "print(jax.grad(f, argnums=0) (x, y, z))\n",
    "print(jax.grad(f, argnums=1) (x, y, z))\n",
    "print(jax.grad(f, argnums=2) (x, y, z))\n",
    " or\n",
    "\n",
    "def f(arr):\n",
    "return arr[0] ** 2 + 2arr[1] ** 2+3 arr[2] ** 2\n",
    "\n",
    "x, y, z = 2 2.0, 2.0\n",
    "4x ^ 2 + 2y ^ 2 + 3z ^ 2\n",
    "  d/dx (f) = 2x = 4\n",
    " d/dy (f) = 4x = 8\n",
    "d/dz (f) = 6x = 12\n",
    "\n",
    "print(f([x, y, z])) print(jax.grad (f) ([x, y, z]))\n",
    "\n",
    "\n",
    "#randomness\n",
    "\n",
    "jax uses keys for randomness simliar to seed value. keys are slipt for reproducibilty. since a key once used can not be used again.\n",
    "\n",
    "https://www.youtube.com/watch?v=wq-UsiOkBRU"
   ]
  },
  {
   "cell_type": "code",
   "execution_count": 1,
   "id": "d30a1793",
   "metadata": {
    "execution": {
     "iopub.execute_input": "2025-10-23T01:34:42.474047Z",
     "iopub.status.busy": "2025-10-23T01:34:42.473693Z",
     "iopub.status.idle": "2025-10-23T01:34:48.598139Z",
     "shell.execute_reply": "2025-10-23T01:34:48.596332Z"
    },
    "executionInfo": {
     "elapsed": 14553,
     "status": "ok",
     "timestamp": 1760936583484,
     "user": {
      "displayName": "Keerthi Sana",
      "userId": "00137075258000860240"
     },
     "user_tz": 240
    },
    "id": "o1_CpEeJI1JI",
    "papermill": {
     "duration": 6.145127,
     "end_time": "2025-10-23T01:34:48.600596",
     "exception": false,
     "start_time": "2025-10-23T01:34:42.455469",
     "status": "completed"
    },
    "tags": []
   },
   "outputs": [],
   "source": [
    "!pip install -q jax jaxlib"
   ]
  },
  {
   "cell_type": "code",
   "execution_count": 2,
   "id": "851fa474",
   "metadata": {
    "execution": {
     "iopub.execute_input": "2025-10-23T01:34:48.638913Z",
     "iopub.status.busy": "2025-10-23T01:34:48.638502Z",
     "iopub.status.idle": "2025-10-23T01:34:51.418644Z",
     "shell.execute_reply": "2025-10-23T01:34:51.417422Z"
    },
    "executionInfo": {
     "elapsed": 690,
     "status": "ok",
     "timestamp": 1760936584183,
     "user": {
      "displayName": "Keerthi Sana",
      "userId": "00137075258000860240"
     },
     "user_tz": 240
    },
    "id": "GZ0WneI0mVIa",
    "papermill": {
     "duration": 2.800524,
     "end_time": "2025-10-23T01:34:51.420502",
     "exception": false,
     "start_time": "2025-10-23T01:34:48.619978",
     "status": "completed"
    },
    "tags": []
   },
   "outputs": [],
   "source": [
    "import jax\n",
    "import jax.numpy as jnp"
   ]
  },
  {
   "cell_type": "markdown",
   "id": "0331af87",
   "metadata": {
    "id": "wqkU_JQE-HVV",
    "papermill": {
     "duration": 0.015758,
     "end_time": "2025-10-23T01:34:51.453303",
     "exception": false,
     "start_time": "2025-10-23T01:34:51.437545",
     "status": "completed"
    },
    "tags": []
   },
   "source": [
    "### JAX Randomness and PRNG Keys\n",
    "Unlike NumPy, JAX requires explicit pseudo-random number generator (PRNG) keys for reproducible randomness.\n",
    "You should always split keys instead of reusing them.\n"
   ]
  },
  {
   "cell_type": "code",
   "execution_count": 3,
   "id": "eef81c22",
   "metadata": {
    "colab": {
     "base_uri": "https://localhost:8080/"
    },
    "execution": {
     "iopub.execute_input": "2025-10-23T01:34:51.487642Z",
     "iopub.status.busy": "2025-10-23T01:34:51.487229Z",
     "iopub.status.idle": "2025-10-23T01:34:53.495066Z",
     "shell.execute_reply": "2025-10-23T01:34:53.493318Z"
    },
    "executionInfo": {
     "elapsed": 2000,
     "status": "ok",
     "timestamp": 1760936586179,
     "user": {
      "displayName": "Keerthi Sana",
      "userId": "00137075258000860240"
     },
     "user_tz": 240
    },
    "id": "qy9eXNMb-DIW",
    "outputId": "9ca7ad81-d754-4380-c4fc-871b36acbd4f",
    "papermill": {
     "duration": 2.027462,
     "end_time": "2025-10-23T01:34:53.497183",
     "exception": false,
     "start_time": "2025-10-23T01:34:51.469721",
     "status": "completed"
    },
    "tags": []
   },
   "outputs": [
    {
     "name": "stderr",
     "output_type": "stream",
     "text": [
      "INFO:2025-10-23 01:34:52,124:jax._src.xla_bridge:924: Unable to initialize backend 'rocm': module 'jaxlib.xla_extension' has no attribute 'GpuAllocatorConfig'\n",
      "INFO:2025-10-23 01:34:52,150:jax._src.xla_bridge:924: Unable to initialize backend 'tpu': INTERNAL: Failed to open libtpu.so: libtpu.so: cannot open shared object file: No such file or directory\n"
     ]
    },
    {
     "name": "stdout",
     "output_type": "stream",
     "text": [
      "Main key: [0 0]\n",
      "Random normal sample:\n",
      " [[-2.4424558  -2.0356805   0.20554423]\n",
      " [-0.3535502  -0.76197404 -1.1785518 ]\n",
      " [-1.1482196   0.29716578 -1.3105359 ]]\n",
      "Random uniform sample:\n",
      " [[0.9024495  0.91229284 0.34104764]\n",
      " [0.2200911  0.6483767  0.5075352 ]\n",
      " [0.71720433 0.22564113 0.5910187 ]]\n"
     ]
    }
   ],
   "source": [
    "import jax\n",
    "import jax.numpy as jnp\n",
    "\n",
    "# PRNG Key setup\n",
    "key = jax.random.PRNGKey(0)\n",
    "print(\"Main key:\", key)\n",
    "\n",
    "# Always split keys before using\n",
    "key, subkey1, subkey2 = jax.random.split(key, 3)\n",
    "x = jax.random.normal(subkey1, (3, 3))\n",
    "y = jax.random.uniform(subkey2, (3, 3))\n",
    "print(\"Random normal sample:\\n\", x)\n",
    "print(\"Random uniform sample:\\n\", y)\n"
   ]
  },
  {
   "cell_type": "code",
   "execution_count": 4,
   "id": "0cca6c35",
   "metadata": {
    "colab": {
     "base_uri": "https://localhost:8080/"
    },
    "execution": {
     "iopub.execute_input": "2025-10-23T01:34:53.534632Z",
     "iopub.status.busy": "2025-10-23T01:34:53.534306Z",
     "iopub.status.idle": "2025-10-23T01:34:53.591062Z",
     "shell.execute_reply": "2025-10-23T01:34:53.589934Z"
    },
    "executionInfo": {
     "elapsed": 165,
     "status": "ok",
     "timestamp": 1760936586352,
     "user": {
      "displayName": "Keerthi Sana",
      "userId": "00137075258000860240"
     },
     "user_tz": 240
    },
    "id": "bRfDnmezmXv-",
    "outputId": "f3e508f1-f2bb-4a59-d3c2-5c71c81dd38d",
    "papermill": {
     "duration": 0.077999,
     "end_time": "2025-10-23T01:34:53.593037",
     "exception": false,
     "start_time": "2025-10-23T01:34:53.515038",
     "status": "completed"
    },
    "tags": []
   },
   "outputs": [
    {
     "name": "stdout",
     "output_type": "stream",
     "text": [
      "x: [1. 2. 3.]\n",
      "y: [4. 5. 6.]\n",
      "dot product: 32.0\n"
     ]
    }
   ],
   "source": [
    "# JAX arrays look like NumPy arrays but run on accelerators\n",
    "x = jnp.array([1.0, 2.0, 3.0])\n",
    "y = jnp.array([4.0, 5.0, 6.0])\n",
    "\n",
    "print(\"x:\", x)\n",
    "print(\"y:\", y)\n",
    "print(\"dot product:\", jnp.dot(x, y))"
   ]
  },
  {
   "cell_type": "code",
   "execution_count": 5,
   "id": "58a665ce",
   "metadata": {
    "colab": {
     "base_uri": "https://localhost:8080/"
    },
    "execution": {
     "iopub.execute_input": "2025-10-23T01:34:53.630274Z",
     "iopub.status.busy": "2025-10-23T01:34:53.629878Z",
     "iopub.status.idle": "2025-10-23T01:34:53.842166Z",
     "shell.execute_reply": "2025-10-23T01:34:53.840292Z"
    },
    "executionInfo": {
     "elapsed": 361,
     "status": "ok",
     "timestamp": 1760936586717,
     "user": {
      "displayName": "Keerthi Sana",
      "userId": "00137075258000860240"
     },
     "user_tz": 240
    },
    "id": "MZa29II0mjGG",
    "outputId": "d93e3e50-d791-4bd4-e36d-e592e684c6af",
    "papermill": {
     "duration": 0.234152,
     "end_time": "2025-10-23T01:34:53.844521",
     "exception": false,
     "start_time": "2025-10-23T01:34:53.610369",
     "status": "completed"
    },
    "tags": []
   },
   "outputs": [
    {
     "name": "stdout",
     "output_type": "stream",
     "text": [
      "Value: 14.0\n",
      "Gradient: [2. 4. 6.]\n"
     ]
    }
   ],
   "source": [
    "# Simple function: squared norm\n",
    "def squared_norm(x):\n",
    "    return jnp.sum(x ** 2)\n",
    "\n",
    "grad_fn = jax.grad(squared_norm)\n",
    "\n",
    "print(\"Value:\", squared_norm(x))\n",
    "print(\"Gradient:\", grad_fn(x))  # derivative wrt x"
   ]
  },
  {
   "cell_type": "code",
   "execution_count": 6,
   "id": "4eca04c4",
   "metadata": {
    "colab": {
     "base_uri": "https://localhost:8080/"
    },
    "execution": {
     "iopub.execute_input": "2025-10-23T01:34:53.882118Z",
     "iopub.status.busy": "2025-10-23T01:34:53.881582Z",
     "iopub.status.idle": "2025-10-23T01:34:53.919404Z",
     "shell.execute_reply": "2025-10-23T01:34:53.918128Z"
    },
    "executionInfo": {
     "elapsed": 236,
     "status": "ok",
     "timestamp": 1760936586958,
     "user": {
      "displayName": "Keerthi Sana",
      "userId": "00137075258000860240"
     },
     "user_tz": 240
    },
    "id": "Y3jivetJmn5J",
    "outputId": "04d04bb5-aa48-4bb3-fbb2-d59775ab4475",
    "papermill": {
     "duration": 0.057354,
     "end_time": "2025-10-23T01:34:53.921396",
     "exception": false,
     "start_time": "2025-10-23T01:34:53.864042",
     "status": "completed"
    },
    "tags": []
   },
   "outputs": [
    {
     "name": "stdout",
     "output_type": "stream",
     "text": [
      "f: 1.4000001\n"
     ]
    }
   ],
   "source": [
    "@jax.jit\n",
    "def f(w, x):\n",
    "    return jnp.dot(w, x)\n",
    "\n",
    "w = jnp.array([0.1, 0.2, 0.3])\n",
    "print(\"f:\", f(w, x))"
   ]
  },
  {
   "cell_type": "code",
   "execution_count": 7,
   "id": "82e642f8",
   "metadata": {
    "colab": {
     "base_uri": "https://localhost:8080/"
    },
    "execution": {
     "iopub.execute_input": "2025-10-23T01:34:53.959132Z",
     "iopub.status.busy": "2025-10-23T01:34:53.958764Z",
     "iopub.status.idle": "2025-10-23T01:34:54.116855Z",
     "shell.execute_reply": "2025-10-23T01:34:54.115518Z"
    },
    "executionInfo": {
     "elapsed": 446,
     "status": "ok",
     "timestamp": 1760936587407,
     "user": {
      "displayName": "Keerthi Sana",
      "userId": "00137075258000860240"
     },
     "user_tz": 240
    },
    "id": "4Q3_V8gr-fwf",
    "outputId": "c7b8beb0-e985-4812-8fe1-b4ce867271db",
    "papermill": {
     "duration": 0.178531,
     "end_time": "2025-10-23T01:34:54.118813",
     "exception": false,
     "start_time": "2025-10-23T01:34:53.940282",
     "status": "completed"
    },
    "tags": []
   },
   "outputs": [
    {
     "name": "stdout",
     "output_type": "stream",
     "text": [
      "Manual: [Array(1, dtype=int32), Array(2, dtype=int32), Array(5, dtype=int32), Array(10, dtype=int32), Array(17, dtype=int32)]\n",
      "Vectorized: [ 1  2  5 10 17]\n"
     ]
    }
   ],
   "source": [
    "### Vectorization with `vmap`\n",
    "#`jax.vmap` automatically vectorizes functions over batches of inputs, avoiding manual Python loops.\n",
    "def f(x):\n",
    "    return x ** 2 + 1\n",
    "\n",
    "xs = jnp.arange(5)\n",
    "print(\"Manual:\", [f(x) for x in xs])\n",
    "print(\"Vectorized:\", jax.vmap(f)(xs))\n"
   ]
  },
  {
   "cell_type": "code",
   "execution_count": 8,
   "id": "44080567",
   "metadata": {
    "colab": {
     "base_uri": "https://localhost:8080/"
    },
    "execution": {
     "iopub.execute_input": "2025-10-23T01:34:54.154306Z",
     "iopub.status.busy": "2025-10-23T01:34:54.153945Z",
     "iopub.status.idle": "2025-10-23T01:34:54.258814Z",
     "shell.execute_reply": "2025-10-23T01:34:54.257584Z"
    },
    "executionInfo": {
     "elapsed": 135,
     "status": "ok",
     "timestamp": 1760936587549,
     "user": {
      "displayName": "Keerthi Sana",
      "userId": "00137075258000860240"
     },
     "user_tz": 240
    },
    "id": "I76A4JGXnFsl",
    "outputId": "d0a48a8f-e3f5-4dea-8091-7ca1bf53aaa9",
    "papermill": {
     "duration": 0.124854,
     "end_time": "2025-10-23T01:34:54.260787",
     "exception": false,
     "start_time": "2025-10-23T01:34:54.135933",
     "status": "completed"
    },
    "tags": []
   },
   "outputs": [
    {
     "name": "stdout",
     "output_type": "stream",
     "text": [
      "Batched dot products: [1.4000001 2.        2.6      ]\n"
     ]
    }
   ],
   "source": [
    "# Define scalar function\n",
    "def f_single(w, x):\n",
    "    return jnp.dot(w, x)\n",
    "\n",
    "# Batch of data\n",
    "batch_w = jnp.stack([w, w, w])\n",
    "batch_x = jnp.stack([x, x + 1, x + 2])\n",
    "\n",
    "f_batch = jax.vmap(f_single, in_axes=(0, 0))  # apply across batches\n",
    "print(\"Batched dot products:\", f_batch(batch_w, batch_x))"
   ]
  },
  {
   "cell_type": "code",
   "execution_count": 9,
   "id": "3bc9dd61",
   "metadata": {
    "colab": {
     "base_uri": "https://localhost:8080/"
    },
    "execution": {
     "iopub.execute_input": "2025-10-23T01:34:54.296260Z",
     "iopub.status.busy": "2025-10-23T01:34:54.295869Z",
     "iopub.status.idle": "2025-10-23T01:34:54.509733Z",
     "shell.execute_reply": "2025-10-23T01:34:54.508411Z"
    },
    "executionInfo": {
     "elapsed": 218,
     "status": "ok",
     "timestamp": 1760936587773,
     "user": {
      "displayName": "Keerthi Sana",
      "userId": "00137075258000860240"
     },
     "user_tz": 240
    },
    "id": "gl7RtqsI_IAa",
    "outputId": "584d5c65-7b9e-4bd2-c277-52ddcf290a04",
    "papermill": {
     "duration": 0.233784,
     "end_time": "2025-10-23T01:34:54.511806",
     "exception": false,
     "start_time": "2025-10-23T01:34:54.278022",
     "status": "completed"
    },
    "tags": []
   },
   "outputs": [
    {
     "name": "stdout",
     "output_type": "stream",
     "text": [
      "Loss: 4.6066666\n",
      "Gradients: {'b': Array(-4., dtype=float32, weak_type=True), 'w': Array(-9.266666, dtype=float32, weak_type=True)}\n"
     ]
    }
   ],
   "source": [
    "### Gradients and `value_and_grad`\n",
    "# Use `jax.value_and_grad` when you need both the loss value and its gradients efficiently.\n",
    "def loss_fn(params, x, y):\n",
    "    pred = params[\"w\"] * x + params[\"b\"]\n",
    "    return jnp.mean((pred - y) ** 2)\n",
    "\n",
    "params = {\"w\": 1.0, \"b\": 0.0}\n",
    "x, y = jnp.array([1.0, 2.0, 3.0]), jnp.array([2.0, 4.1, 5.9])\n",
    "\n",
    "loss, grads = jax.value_and_grad(loss_fn)(params, x, y)\n",
    "print(\"Loss:\", loss)\n",
    "print(\"Gradients:\", grads)"
   ]
  },
  {
   "cell_type": "code",
   "execution_count": 10,
   "id": "f13b6992",
   "metadata": {
    "colab": {
     "base_uri": "https://localhost:8080/"
    },
    "execution": {
     "iopub.execute_input": "2025-10-23T01:34:54.547873Z",
     "iopub.status.busy": "2025-10-23T01:34:54.547564Z",
     "iopub.status.idle": "2025-10-23T01:34:54.563864Z",
     "shell.execute_reply": "2025-10-23T01:34:54.562736Z"
    },
    "executionInfo": {
     "elapsed": 177,
     "status": "ok",
     "timestamp": 1760936587954,
     "user": {
      "displayName": "Keerthi Sana",
      "userId": "00137075258000860240"
     },
     "user_tz": 240
    },
    "id": "hOoUmimRnNen",
    "outputId": "7792d848-0d34-4328-c373-8472cb427bc6",
    "papermill": {
     "duration": 0.03608,
     "end_time": "2025-10-23T01:34:54.565745",
     "exception": false,
     "start_time": "2025-10-23T01:34:54.529665",
     "status": "completed"
    },
    "tags": []
   },
   "outputs": [
    {
     "name": "stdout",
     "output_type": "stream",
     "text": [
      "Gradients: (Array(-9.466667, dtype=float32, weak_type=True), Array(-4.0666666, dtype=float32, weak_type=True))\n"
     ]
    }
   ],
   "source": [
    "# Linear regression y = w*x + b\n",
    "def model(w, b, x):\n",
    "    return w * x + b\n",
    "\n",
    "def mse_loss(w, b, x, y):\n",
    "    preds = model(w, b, x)\n",
    "    return jnp.mean((preds - y)**2)\n",
    "\n",
    "# Example data\n",
    "x_data = jnp.array([1.0, 2.0, 3.0])\n",
    "y_data = jnp.array([2.0, 4.1, 6.0])\n",
    "\n",
    "# Gradient wrt (w, b)\n",
    "loss_grad = jax.grad(mse_loss, argnums=(0,1))\n",
    "print(\"Gradients:\", loss_grad(1.0, 0.0, x_data, y_data))"
   ]
  },
  {
   "cell_type": "code",
   "execution_count": 11,
   "id": "1304e7c5",
   "metadata": {
    "execution": {
     "iopub.execute_input": "2025-10-23T01:34:54.601852Z",
     "iopub.status.busy": "2025-10-23T01:34:54.601556Z",
     "iopub.status.idle": "2025-10-23T01:35:25.640969Z",
     "shell.execute_reply": "2025-10-23T01:35:25.639391Z"
    },
    "executionInfo": {
     "elapsed": 12526,
     "status": "ok",
     "timestamp": 1760936600487,
     "user": {
      "displayName": "Keerthi Sana",
      "userId": "00137075258000860240"
     },
     "user_tz": 240
    },
    "id": "pi9xgFnJoM9b",
    "papermill": {
     "duration": 31.060181,
     "end_time": "2025-10-23T01:35:25.643064",
     "exception": false,
     "start_time": "2025-10-23T01:34:54.582883",
     "status": "completed"
    },
    "tags": []
   },
   "outputs": [
    {
     "name": "stderr",
     "output_type": "stream",
     "text": [
      "/usr/lib/python3.11/pty.py:89: RuntimeWarning: os.fork() was called. os.fork() is incompatible with multithreaded code, and JAX is multithreaded, so this will likely lead to a deadlock.\n",
      "  pid, fd = os.forkpty()\n"
     ]
    },
    {
     "name": "stdout",
     "output_type": "stream",
     "text": [
      "\u001b[2K   \u001b[90m━━━━━━━━━━━━━━━━━━━━━━━━━━━━━━━━━━━━━━━━\u001b[0m \u001b[32m323.2/323.2 kB\u001b[0m \u001b[31m8.2 MB/s\u001b[0m eta \u001b[36m0:00:00\u001b[0m\r\n",
      "\u001b[?25h\u001b[31mERROR: pip's dependency resolver does not currently take into account all the packages that are installed. This behaviour is the source of the following dependency conflicts.\r\n",
      "bigframes 2.12.0 requires google-cloud-bigquery-storage<3.0.0,>=2.30.0, which is not installed.\r\n",
      "google-api-core 1.34.1 requires protobuf!=3.20.0,!=3.20.1,!=4.21.0,!=4.21.1,!=4.21.2,!=4.21.3,!=4.21.4,!=4.21.5,<4.0.0dev,>=3.19.5, but you have protobuf 6.33.0 which is incompatible.\r\n",
      "google-cloud-translate 3.12.1 requires protobuf!=3.20.0,!=3.20.1,!=4.21.0,!=4.21.1,!=4.21.2,!=4.21.3,!=4.21.4,!=4.21.5,<5.0.0dev,>=3.19.5, but you have protobuf 6.33.0 which is incompatible.\r\n",
      "google-cloud-bigtable 2.32.0 requires google-api-core[grpc]<3.0.0,>=2.17.0, but you have google-api-core 1.34.1 which is incompatible.\r\n",
      "bigframes 2.12.0 requires google-cloud-bigquery[bqstorage,pandas]>=3.31.0, but you have google-cloud-bigquery 3.25.0 which is incompatible.\r\n",
      "bigframes 2.12.0 requires rich<14,>=12.4.4, but you have rich 14.1.0 which is incompatible.\r\n",
      "google-ai-generativelanguage 0.6.15 requires protobuf!=4.21.0,!=4.21.1,!=4.21.2,!=4.21.3,!=4.21.4,!=4.21.5,<6.0.0dev,>=3.20.2, but you have protobuf 6.33.0 which is incompatible.\r\n",
      "pydrive2 1.21.3 requires cryptography<44, but you have cryptography 46.0.1 which is incompatible.\r\n",
      "pydrive2 1.21.3 requires pyOpenSSL<=24.2.1,>=19.1.0, but you have pyopenssl 25.3.0 which is incompatible.\r\n",
      "pandas-gbq 0.29.2 requires google-api-core<3.0.0,>=2.10.2, but you have google-api-core 1.34.1 which is incompatible.\r\n",
      "google-cloud-storage 2.19.0 requires google-api-core<3.0.0dev,>=2.15.0, but you have google-api-core 1.34.1 which is incompatible.\r\n",
      "tensorflow 2.18.0 requires protobuf!=4.21.0,!=4.21.1,!=4.21.2,!=4.21.3,!=4.21.4,!=4.21.5,<6.0.0dev,>=3.20.3, but you have protobuf 6.33.0 which is incompatible.\r\n",
      "dataproc-spark-connect 0.8.3 requires google-api-core>=2.19, but you have google-api-core 1.34.1 which is incompatible.\r\n",
      "gcsfs 2025.3.0 requires fsspec==2025.3.0, but you have fsspec 2025.9.0 which is incompatible.\u001b[0m\u001b[31m\r\n",
      "\u001b[0m"
     ]
    }
   ],
   "source": [
    "!pip install -q jax jaxlib tensorflow_datasets\n"
   ]
  },
  {
   "cell_type": "code",
   "execution_count": 12,
   "id": "80f64e44",
   "metadata": {
    "execution": {
     "iopub.execute_input": "2025-10-23T01:35:25.684016Z",
     "iopub.status.busy": "2025-10-23T01:35:25.683622Z",
     "iopub.status.idle": "2025-10-23T01:35:27.914370Z",
     "shell.execute_reply": "2025-10-23T01:35:27.912711Z"
    },
    "executionInfo": {
     "elapsed": 1226,
     "status": "ok",
     "timestamp": 1760936601719,
     "user": {
      "displayName": "Keerthi Sana",
      "userId": "00137075258000860240"
     },
     "user_tz": 240
    },
    "id": "kQ4yqW0QqkL5",
    "papermill": {
     "duration": 2.253399,
     "end_time": "2025-10-23T01:35:27.916840",
     "exception": false,
     "start_time": "2025-10-23T01:35:25.663441",
     "status": "completed"
    },
    "tags": []
   },
   "outputs": [],
   "source": [
    "import jax\n",
    "import jax.numpy as jnp\n",
    "import optax\n",
    "import tensorflow_datasets as tfds"
   ]
  },
  {
   "cell_type": "code",
   "execution_count": 13,
   "id": "8352c899",
   "metadata": {
    "colab": {
     "base_uri": "https://localhost:8080/",
     "height": 252,
     "referenced_widgets": [
      "3c17efc58b864918ad983856b2eb1d25",
      "8d4cd8e3e1924bb39a36d1254333e795",
      "45af7e912a0f4ea68485027ecf1ecb8a",
      "2466a38f004545588a716277bbf06eb0",
      "2ecd721607d1480e9094898b78e1b1de",
      "428857a4a88948a9a4bf61711984ad96",
      "dd29dbe850fe48c98f2ed005affe1181",
      "b3ac814ccd974c7cb959f478ab37bd87",
      "2147c017254f45e5aa7807c81fa8e491",
      "284c1255ea414309888959f09d3b42be",
      "78c9e95e8d004382954c372887cde502",
      "dda78baafdc047c59f3d84738f147fcd",
      "109677df982a418eb39a74f16bf58c5e",
      "14b2f54ff615448c9225555af8dbc0e9",
      "7b8b66c5c09b44138c1e81fb8fe53388",
      "6381587e85d84b7d98be500827fe8a1b",
      "369ad8f702564f82972260e2fa5dc2c5",
      "ef28aafb278b4d959aff88fab753feb5",
      "fabd96f3672743939f54b30fff04e102",
      "ec6f8b400e674e48963ec9aef5ef3d38",
      "d0b975b8db8c432aa8c8c02f97ea08c8",
      "efbcab53dcfa4507aa77a29aa9d1351f",
      "4eedfc77ac5446b3934ad2d068670419",
      "7c7e573b2f2447e2ab1461aadeb05703",
      "62a97c4482694a52b4eb4c16322d20b0",
      "651630f036c14f5e8ea4acb1c6ddb3d8",
      "ed8ad7cbfe9e4b28ac37dc2084cccab9",
      "ba366aa8d6a2434d8df01a40baa13f72",
      "0d3e6d44fa2540e7a93aa195341c0fc8",
      "18bd6b9e7e0644e7b2e118f6817e6460",
      "ae1617faa5f94a1d8bfbbc0f647a6481",
      "95cc3bc97ce84039a887f17bf68e44af",
      "a2326a52fbdc4744b9d28f52e86ceb7f",
      "fa6e1da3fcc740b8bc013826ee0f79e9",
      "d3924338aae94c508df444aa263790a9",
      "37de39627bbf48409ca7f4473708b4c8",
      "422083080dba41ccbcf738687329517b",
      "e24a6dec673f4faf95eafe877828a816",
      "7e3c6aea00954b94b13ae26a8d2e529e",
      "45afb68b68934014876f5afdea8d3a2e",
      "37f148e64a3e4ff3bc2ca947a350d398",
      "8f0a312c1e6e48689b95a9ac32f06999",
      "b11c78eb1a544d6ba94435066c9a766e",
      "b661a671c17d43ada5d5278cf373c9d8",
      "8e25e9eed41045c983a50934ad701fff",
      "e7f2d123352e471b9b18b3301209f881",
      "9d87ca77beb44e26b7f1be8391a09293",
      "00b1cd4a70e74958aa64b77ba9e81e87",
      "58b18f70b2104d3199b4ee1a9e7e79fc",
      "7829793f77a4488ca227929bf9896ebb",
      "43a650eab03048f7bcd3b780ab55d7a0",
      "3801eaec9b9e4a94884a6c161955cae3",
      "32f5051aaba5471f9d794c4fe1653371",
      "3e43d3ec5162491f9e863afe8b44532b",
      "0e6710209ed14886bcf56952581156f9",
      "5ef596eeff6b49e4a55b9c4a2905a8b3",
      "20743ea8c72c4760900d80024725f9a2",
      "213103ba5f1e43278f095f9020765454",
      "f4f3a83a0ca74ed8929581976dc6714c",
      "ee02b6a5c831433bafa77a3f903464cd",
      "b5e9e41a04164b51b56a4b8ed7ee5ea0",
      "06523f19e7ab4dcb81965cd19640b88b",
      "d03e7a7f63454fb3acd2503fe99fac04",
      "b757dceac3304e20b8e457230b404915",
      "aed497568843446894044114439958bd",
      "d7e520f147c14d0c9fe645bb7c2301c4",
      "789c9295985d48758b3c542897bc30ec",
      "e3508cfc8d1048889bcb0fd12a06a2be",
      "d9e7e39beee94602ad0340277dae34de",
      "483ba6c84a224135bb8b15fcf4f0ce4b",
      "22eec400857144208bd23e80f89bfa24",
      "e33ad7b82acc4d228ca37208197bc779",
      "36c34d36d34349b0bb2e573adb2b0031",
      "b741c0ae59254ed9aa7fe01926560cbc",
      "c34eef976fc64c6683ec2aecac70236e",
      "f368b532e037433eb3c6f561b8911726",
      "7e253b78d9484e309c5d0da9f8c3be2f",
      "88d2943da9f24cddb1cad766a8624baf",
      "dd8fd851f7dc4a569f00a9f739e981a3",
      "5fc2d72c2efa416a94e8709aa18d30be",
      "c7af837ab074474baaff1c2686d2cd53",
      "6387b7e7a84f4ca29ecc1dba0a678871",
      "a63de5fe358c4958b4304b127856fbd0",
      "bdb5e92efc3342cbb74a7be39914a094",
      "1f22f24fb0294e6c98ec3d2dce84850f",
      "720b5527dabd41b39b42901196904070",
      "d2b99fe8ec88417cb1ff205ecbcd1d2f",
      "19ae6e3184b747419f427ad8acfc43f2"
     ]
    },
    "execution": {
     "iopub.execute_input": "2025-10-23T01:35:27.956740Z",
     "iopub.status.busy": "2025-10-23T01:35:27.956290Z",
     "iopub.status.idle": "2025-10-23T01:36:27.390846Z",
     "shell.execute_reply": "2025-10-23T01:36:27.389255Z"
    },
    "executionInfo": {
     "elapsed": 51977,
     "status": "ok",
     "timestamp": 1760936653700,
     "user": {
      "displayName": "Keerthi Sana",
      "userId": "00137075258000860240"
     },
     "user_tz": 240
    },
    "id": "vaYDQUhwow7u",
    "outputId": "00b326e8-7938-43c8-d2db-de6d808dbf7a",
    "papermill": {
     "duration": 59.456517,
     "end_time": "2025-10-23T01:36:27.392965",
     "exception": false,
     "start_time": "2025-10-23T01:35:27.936448",
     "status": "completed"
    },
    "tags": []
   },
   "outputs": [
    {
     "name": "stdout",
     "output_type": "stream",
     "text": [
      "Downloading and preparing dataset Unknown size (download: Unknown size, generated: Unknown size, total: Unknown size) to /root/tensorflow_datasets/mnist/3.0.1...\n"
     ]
    },
    {
     "data": {
      "application/vnd.jupyter.widget-view+json": {
       "model_id": "bd713621f4604b70938bb004eee13d35",
       "version_major": 2,
       "version_minor": 0
      },
      "text/plain": [
       "Dl Completed...: 0 url [00:00, ? url/s]"
      ]
     },
     "metadata": {},
     "output_type": "display_data"
    },
    {
     "data": {
      "application/vnd.jupyter.widget-view+json": {
       "model_id": "f5ea7a3e8bab4357afb1b8e947617a3b",
       "version_major": 2,
       "version_minor": 0
      },
      "text/plain": [
       "Dl Size...: 0 MiB [00:00, ? MiB/s]"
      ]
     },
     "metadata": {},
     "output_type": "display_data"
    },
    {
     "data": {
      "application/vnd.jupyter.widget-view+json": {
       "model_id": "f9d0f09b0d5e47349cb2f5265371ee87",
       "version_major": 2,
       "version_minor": 0
      },
      "text/plain": [
       "Extraction completed...: 0 file [00:00, ? file/s]"
      ]
     },
     "metadata": {},
     "output_type": "display_data"
    },
    {
     "name": "stderr",
     "output_type": "stream",
     "text": [
      "2025-10-23 01:35:34.058026: E external/local_xla/xla/stream_executor/cuda/cuda_fft.cc:477] Unable to register cuFFT factory: Attempting to register factory for plugin cuFFT when one has already been registered\n",
      "WARNING: All log messages before absl::InitializeLog() is called are written to STDERR\n",
      "E0000 00:00:1761183334.420987      71 cuda_dnn.cc:8310] Unable to register cuDNN factory: Attempting to register factory for plugin cuDNN when one has already been registered\n",
      "E0000 00:00:1761183334.523223      71 cuda_blas.cc:1418] Unable to register cuBLAS factory: Attempting to register factory for plugin cuBLAS when one has already been registered\n"
     ]
    },
    {
     "ename": "AttributeError",
     "evalue": "'MessageFactory' object has no attribute 'GetPrototype'",
     "output_type": "error",
     "traceback": [
      "\u001b[0;31m---------------------------------------------------------------------------\u001b[0m",
      "\u001b[0;31mAttributeError\u001b[0m                            Traceback (most recent call last)",
      "\u001b[0;31mAttributeError\u001b[0m: 'MessageFactory' object has no attribute 'GetPrototype'"
     ]
    },
    {
     "ename": "AttributeError",
     "evalue": "'MessageFactory' object has no attribute 'GetPrototype'",
     "output_type": "error",
     "traceback": [
      "\u001b[0;31m---------------------------------------------------------------------------\u001b[0m",
      "\u001b[0;31mAttributeError\u001b[0m                            Traceback (most recent call last)",
      "\u001b[0;31mAttributeError\u001b[0m: 'MessageFactory' object has no attribute 'GetPrototype'"
     ]
    },
    {
     "ename": "AttributeError",
     "evalue": "'MessageFactory' object has no attribute 'GetPrototype'",
     "output_type": "error",
     "traceback": [
      "\u001b[0;31m---------------------------------------------------------------------------\u001b[0m",
      "\u001b[0;31mAttributeError\u001b[0m                            Traceback (most recent call last)",
      "\u001b[0;31mAttributeError\u001b[0m: 'MessageFactory' object has no attribute 'GetPrototype'"
     ]
    },
    {
     "ename": "AttributeError",
     "evalue": "'MessageFactory' object has no attribute 'GetPrototype'",
     "output_type": "error",
     "traceback": [
      "\u001b[0;31m---------------------------------------------------------------------------\u001b[0m",
      "\u001b[0;31mAttributeError\u001b[0m                            Traceback (most recent call last)",
      "\u001b[0;31mAttributeError\u001b[0m: 'MessageFactory' object has no attribute 'GetPrototype'"
     ]
    },
    {
     "ename": "AttributeError",
     "evalue": "'MessageFactory' object has no attribute 'GetPrototype'",
     "output_type": "error",
     "traceback": [
      "\u001b[0;31m---------------------------------------------------------------------------\u001b[0m",
      "\u001b[0;31mAttributeError\u001b[0m                            Traceback (most recent call last)",
      "\u001b[0;31mAttributeError\u001b[0m: 'MessageFactory' object has no attribute 'GetPrototype'"
     ]
    },
    {
     "data": {
      "application/vnd.jupyter.widget-view+json": {
       "model_id": "8ee7e839a3bd4397b826c9da647e4488",
       "version_major": 2,
       "version_minor": 0
      },
      "text/plain": [
       "Generating splits...:   0%|          | 0/2 [00:00<?, ? splits/s]"
      ]
     },
     "metadata": {},
     "output_type": "display_data"
    },
    {
     "data": {
      "application/vnd.jupyter.widget-view+json": {
       "model_id": "e9e79eae63ec49cb9408ab3e26caa5d9",
       "version_major": 2,
       "version_minor": 0
      },
      "text/plain": [
       "Generating train examples...: 0 examples [00:00, ? examples/s]"
      ]
     },
     "metadata": {},
     "output_type": "display_data"
    },
    {
     "name": "stderr",
     "output_type": "stream",
     "text": [
      "2025-10-23 01:35:53.611198: E external/local_xla/xla/stream_executor/cuda/cuda_driver.cc:152] failed call to cuInit: INTERNAL: CUDA error: Failed call to cuInit: UNKNOWN ERROR (303)\n"
     ]
    },
    {
     "data": {
      "application/vnd.jupyter.widget-view+json": {
       "model_id": "4979e1db97164b3fb9c1345dd0b1c214",
       "version_major": 2,
       "version_minor": 0
      },
      "text/plain": [
       "Shuffling /root/tensorflow_datasets/mnist/incomplete.6NG3OA_3.0.1/mnist-train.tfrecord*...:   0%|          | 0…"
      ]
     },
     "metadata": {},
     "output_type": "display_data"
    },
    {
     "data": {
      "application/vnd.jupyter.widget-view+json": {
       "model_id": "0353c18a232e43dca823eef1240f1919",
       "version_major": 2,
       "version_minor": 0
      },
      "text/plain": [
       "Generating test examples...: 0 examples [00:00, ? examples/s]"
      ]
     },
     "metadata": {},
     "output_type": "display_data"
    },
    {
     "data": {
      "application/vnd.jupyter.widget-view+json": {
       "model_id": "2d9d2f70a08f48a3b9b81fe87d0ddf31",
       "version_major": 2,
       "version_minor": 0
      },
      "text/plain": [
       "Shuffling /root/tensorflow_datasets/mnist/incomplete.6NG3OA_3.0.1/mnist-test.tfrecord*...:   0%|          | 0/…"
      ]
     },
     "metadata": {},
     "output_type": "display_data"
    },
    {
     "name": "stdout",
     "output_type": "stream",
     "text": [
      "Dataset mnist downloaded and prepared to /root/tensorflow_datasets/mnist/3.0.1. Subsequent calls will reuse this data.\n",
      "Epoch 1, Test accuracy: 0.8610\n",
      "Epoch 2, Test accuracy: 0.8700\n",
      "Epoch 3, Test accuracy: 0.8510\n",
      "Epoch 4, Test accuracy: 0.8800\n",
      "Epoch 5, Test accuracy: 0.8730\n"
     ]
    }
   ],
   "source": [
    "# --- 1. Imports ---\n",
    "import jax\n",
    "import jax.numpy as jnp\n",
    "import optax\n",
    "import tensorflow_datasets as tfds\n",
    "\n",
    "# --- 2. Preprocessing function ---\n",
    "def preprocess(image, label):\n",
    "    \"\"\"\n",
    "    Takes one MNIST image (28x28 grayscale) and its label.\n",
    "    - Flattens image into vector of length 784\n",
    "    - Normalizes pixel values from [0, 255] → [0, 1]\n",
    "    - Converts label into int32\n",
    "    \"\"\"\n",
    "    image = jnp.array(image, dtype=jnp.float32).reshape(-1) / 255.0\n",
    "    label = jnp.array(label, dtype=jnp.int32)\n",
    "    return image, label\n",
    "\n",
    "# --- 3. Load dataset ---\n",
    "ds_train = tfds.load(\"mnist\", split=\"train\", shuffle_files=True)\n",
    "ds_test = tfds.load(\"mnist\", split=\"test\")\n",
    "\n",
    "# Convert to numpy + preprocess subset (faster for demo)\n",
    "train_data = [preprocess(ex[\"image\"], ex[\"label\"])\n",
    "              for ex in tfds.as_numpy(ds_train.take(5000))]\n",
    "test_data  = [preprocess(ex[\"image\"], ex[\"label\"])\n",
    "              for ex in tfds.as_numpy(ds_test.take(1000))]\n",
    "\n",
    "# --- 4. Initialize parameters ---\n",
    "key = jax.random.PRNGKey(0)\n",
    "W = jax.random.normal(key, (784, 10)) * 0.01   # weights\n",
    "b = jnp.zeros((10,))                           # bias\n",
    "\n",
    "params = (W, b)\n",
    "\n",
    "# --- 5. Model function ---\n",
    "def model(params, x):\n",
    "    W, b = params\n",
    "    logits = jnp.dot(x, W) + b      # shape (10,)\n",
    "    return logits\n",
    "\n",
    "# --- 6. Loss function ---\n",
    "def loss_fn(params, x, y):\n",
    "    logits = model(params, x)\n",
    "    one_hot = jax.nn.one_hot(y, 10)           # convert label → one-hot vector\n",
    "    loss = optax.softmax_cross_entropy(logits, one_hot).mean()\n",
    "    return loss\n",
    "\n",
    "# --- 7. Accuracy function ---\n",
    "def accuracy(params, dataset):\n",
    "    correct = 0\n",
    "    for x, y in dataset:\n",
    "        pred = jnp.argmax(model(params, x))\n",
    "        correct += (pred == y)\n",
    "    return correct / len(dataset)\n",
    "\n",
    "# --- 8. Optimizer ---\n",
    "optimizer = optax.sgd(learning_rate=0.1)\n",
    "opt_state = optimizer.init(params)\n",
    "\n",
    "# --- 9. Training step (with JIT for speed) ---\n",
    "@jax.jit\n",
    "def train_step(params, opt_state, x, y):\n",
    "    grads = jax.grad(loss_fn)(params, x, y)\n",
    "    updates, opt_state = optimizer.update(grads, opt_state)\n",
    "    params = optax.apply_updates(params, updates)\n",
    "    return params, opt_state\n",
    "\n",
    "# --- 10. Training loop ---\n",
    "for epoch in range(5):   # train for 5 epochs\n",
    "    for x, y in train_data:\n",
    "        params, opt_state = train_step(params, opt_state, x, y)\n",
    "\n",
    "    acc = accuracy(params, test_data)\n",
    "    print(f\"Epoch {epoch+1}, Test accuracy: {acc:.4f}\")\n"
   ]
  },
  {
   "cell_type": "code",
   "execution_count": 14,
   "id": "99d333c1",
   "metadata": {
    "execution": {
     "iopub.execute_input": "2025-10-23T01:36:27.433840Z",
     "iopub.status.busy": "2025-10-23T01:36:27.433498Z",
     "iopub.status.idle": "2025-10-23T01:36:27.705879Z",
     "shell.execute_reply": "2025-10-23T01:36:27.704692Z"
    },
    "executionInfo": {
     "elapsed": 573,
     "status": "ok",
     "timestamp": 1760936654278,
     "user": {
      "displayName": "Keerthi Sana",
      "userId": "00137075258000860240"
     },
     "user_tz": 240
    },
    "id": "T89l162YwF_J",
    "papermill": {
     "duration": 0.295405,
     "end_time": "2025-10-23T01:36:27.707866",
     "exception": false,
     "start_time": "2025-10-23T01:36:27.412461",
     "status": "completed"
    },
    "tags": []
   },
   "outputs": [],
   "source": [
    "import jax\n",
    "import jax.numpy as np\n",
    "import time\n",
    "\n",
    "from sklearn.datasets import load_iris\n",
    "from sklearn.model_selection import train_test_split\n",
    "from sklearn.preprocessing import OneHotEncoder, StandardScaler"
   ]
  },
  {
   "cell_type": "code",
   "execution_count": 15,
   "id": "f0bf402c",
   "metadata": {
    "execution": {
     "iopub.execute_input": "2025-10-23T01:36:27.748773Z",
     "iopub.status.busy": "2025-10-23T01:36:27.748418Z",
     "iopub.status.idle": "2025-10-23T01:36:27.766731Z",
     "shell.execute_reply": "2025-10-23T01:36:27.765488Z"
    },
    "executionInfo": {
     "elapsed": 17,
     "status": "ok",
     "timestamp": 1760936654302,
     "user": {
      "displayName": "Keerthi Sana",
      "userId": "00137075258000860240"
     },
     "user_tz": 240
    },
    "id": "4E3lQrEvwMeH",
    "papermill": {
     "duration": 0.041012,
     "end_time": "2025-10-23T01:36:27.768479",
     "exception": false,
     "start_time": "2025-10-23T01:36:27.727467",
     "status": "completed"
    },
    "tags": []
   },
   "outputs": [],
   "source": [
    "data = load_iris()\n",
    "X = data.data\n",
    "y = data.target.reshape(-1, 1)\n",
    "\n",
    "encoder=OneHotEncoder(sparse_output=False)\n",
    "y = encoder.fit_transform(y)\n",
    "\n",
    "X_train, X_test, y_train, y_test = train_test_split(X, y, test_size=0.2)\n",
    "\n",
    "scaler= StandardScaler()\n",
    "X_train=scaler.fit_transform(X_train)\n",
    "X_test=scaler.transform(X_test)"
   ]
  },
  {
   "cell_type": "code",
   "execution_count": 16,
   "id": "4defe530",
   "metadata": {
    "execution": {
     "iopub.execute_input": "2025-10-23T01:36:27.809700Z",
     "iopub.status.busy": "2025-10-23T01:36:27.808679Z",
     "iopub.status.idle": "2025-10-23T01:36:27.816026Z",
     "shell.execute_reply": "2025-10-23T01:36:27.814673Z"
    },
    "executionInfo": {
     "elapsed": 17,
     "status": "ok",
     "timestamp": 1760936654307,
     "user": {
      "displayName": "Keerthi Sana",
      "userId": "00137075258000860240"
     },
     "user_tz": 240
    },
    "id": "KFu83VgywOqj",
    "papermill": {
     "duration": 0.029853,
     "end_time": "2025-10-23T01:36:27.818019",
     "exception": false,
     "start_time": "2025-10-23T01:36:27.788166",
     "status": "completed"
    },
    "tags": []
   },
   "outputs": [],
   "source": [
    "#input -> hidden layer 1-> hidden layer 2 -> output\n",
    "def init_params(input_dim, hidden_dim1, hidden_dim2, output_dim, random_key):\n",
    "  random_keys=jax.random.split(random_key, 3)\n",
    "\n",
    "  W1=jax.random.normal(random_keys[0], (input_dim, hidden_dim1))\n",
    "  b1=jnp.zeros((hidden_dim1,))\n",
    "  W2 =jax.random.normal(random_keys [1], (hidden_dim1, hidden_dim2))\n",
    "  b2=jnp.zeros((hidden_dim2,))\n",
    "  W3=jax.random.normal(random_keys [2], (hidden_dim2, output_dim))\n",
    "  b3=jnp.zeros((output_dim,))\n",
    "\n",
    "  return W1, b1, W2, b2, W3, b3"
   ]
  },
  {
   "cell_type": "code",
   "execution_count": 17,
   "id": "a37aa679",
   "metadata": {
    "execution": {
     "iopub.execute_input": "2025-10-23T01:36:27.858420Z",
     "iopub.status.busy": "2025-10-23T01:36:27.858081Z",
     "iopub.status.idle": "2025-10-23T01:36:27.864369Z",
     "shell.execute_reply": "2025-10-23T01:36:27.863007Z"
    },
    "executionInfo": {
     "elapsed": 17,
     "status": "ok",
     "timestamp": 1760936654313,
     "user": {
      "displayName": "Keerthi Sana",
      "userId": "00137075258000860240"
     },
     "user_tz": 240
    },
    "id": "AMMsg_4GxyC5",
    "papermill": {
     "duration": 0.028686,
     "end_time": "2025-10-23T01:36:27.866227",
     "exception": false,
     "start_time": "2025-10-23T01:36:27.837541",
     "status": "completed"
    },
    "tags": []
   },
   "outputs": [],
   "source": [
    "def forward(params, X):\n",
    "  W1, b1, W2, b2, W3, b3 = params\n",
    "  h1 = jax.nn.relu(jnp.dot(X, W1) + b1)\n",
    "  h2 = jax.nn.relu(jnp.dot(h1, W2) + b2)\n",
    "  logits = jnp.dot(h2, W3) + b3\n",
    "  return logits"
   ]
  },
  {
   "cell_type": "code",
   "execution_count": 18,
   "id": "3d447871",
   "metadata": {
    "execution": {
     "iopub.execute_input": "2025-10-23T01:36:27.907581Z",
     "iopub.status.busy": "2025-10-23T01:36:27.907247Z",
     "iopub.status.idle": "2025-10-23T01:36:27.913254Z",
     "shell.execute_reply": "2025-10-23T01:36:27.911963Z"
    },
    "executionInfo": {
     "elapsed": 4,
     "status": "ok",
     "timestamp": 1760936654320,
     "user": {
      "displayName": "Keerthi Sana",
      "userId": "00137075258000860240"
     },
     "user_tz": 240
    },
    "id": "C6gAvVygydN_",
    "papermill": {
     "duration": 0.02926,
     "end_time": "2025-10-23T01:36:27.915101",
     "exception": false,
     "start_time": "2025-10-23T01:36:27.885841",
     "status": "completed"
    },
    "tags": []
   },
   "outputs": [],
   "source": [
    "def loss_fn(params, x, y, l2_reg=0.0001):\n",
    "  logits = forward (params, x)\n",
    "  probs= jax.nn.softmax(logits)\n",
    "  l2_loss = l2_reg*sum([jnp.sum(w** 2) for w in params[::2]])\n",
    "  return -jnp.mean(jnp.sum(y*jnp.log(probs + 1e-8), axis=1)) + l2_loss"
   ]
  },
  {
   "cell_type": "code",
   "execution_count": 19,
   "id": "c557b99a",
   "metadata": {
    "execution": {
     "iopub.execute_input": "2025-10-23T01:36:27.955821Z",
     "iopub.status.busy": "2025-10-23T01:36:27.955320Z",
     "iopub.status.idle": "2025-10-23T01:36:27.963643Z",
     "shell.execute_reply": "2025-10-23T01:36:27.962391Z"
    },
    "executionInfo": {
     "elapsed": 4,
     "status": "ok",
     "timestamp": 1760936654329,
     "user": {
      "displayName": "Keerthi Sana",
      "userId": "00137075258000860240"
     },
     "user_tz": 240
    },
    "id": "SzrqK34MzI3V",
    "papermill": {
     "duration": 0.030709,
     "end_time": "2025-10-23T01:36:27.965466",
     "exception": false,
     "start_time": "2025-10-23T01:36:27.934757",
     "status": "completed"
    },
    "tags": []
   },
   "outputs": [],
   "source": [
    "@jax.jit\n",
    "def train_step (params, x, y, lr):\n",
    "  grads=jax.grad (loss_fn) (params, x, y)\n",
    "  return [(param - lr * grad) for param, grad in zip (params, grads)]"
   ]
  },
  {
   "cell_type": "code",
   "execution_count": 20,
   "id": "fdbfd916",
   "metadata": {
    "execution": {
     "iopub.execute_input": "2025-10-23T01:36:28.006785Z",
     "iopub.status.busy": "2025-10-23T01:36:28.005820Z",
     "iopub.status.idle": "2025-10-23T01:36:28.013208Z",
     "shell.execute_reply": "2025-10-23T01:36:28.011664Z"
    },
    "executionInfo": {
     "elapsed": 4,
     "status": "ok",
     "timestamp": 1760936654337,
     "user": {
      "displayName": "Keerthi Sana",
      "userId": "00137075258000860240"
     },
     "user_tz": 240
    },
    "id": "x8jCk13ZznJ9",
    "papermill": {
     "duration": 0.030015,
     "end_time": "2025-10-23T01:36:28.015382",
     "exception": false,
     "start_time": "2025-10-23T01:36:27.985367",
     "status": "completed"
    },
    "tags": []
   },
   "outputs": [],
   "source": [
    "def accuracy (params, x, y):\n",
    "  preds = jnp.argmax(forward (params, x), axis=1)\n",
    "  targets = jnp.argmax(y, axis=1)\n",
    "  return jnp.mean (preds == targets)\n",
    "\n",
    "def data_loader (X, y, batch_size):\n",
    "  for i in range(0, len (X), batch_size):\n",
    "    yield X[i:i+batch_size], y [i:i+batch_size]"
   ]
  },
  {
   "cell_type": "code",
   "execution_count": 21,
   "id": "50742c16",
   "metadata": {
    "colab": {
     "base_uri": "https://localhost:8080/"
    },
    "execution": {
     "iopub.execute_input": "2025-10-23T01:36:28.056752Z",
     "iopub.status.busy": "2025-10-23T01:36:28.056305Z",
     "iopub.status.idle": "2025-10-23T01:36:31.448342Z",
     "shell.execute_reply": "2025-10-23T01:36:31.447150Z"
    },
    "executionInfo": {
     "elapsed": 3506,
     "status": "ok",
     "timestamp": 1760936657853,
     "user": {
      "displayName": "Keerthi Sana",
      "userId": "00137075258000860240"
     },
     "user_tz": 240
    },
    "id": "oFZxElf-0M0n",
    "outputId": "89bf4013-95b5-49c8-e7e8-c81b3b090250",
    "papermill": {
     "duration": 3.414825,
     "end_time": "2025-10-23T01:36:31.450327",
     "exception": false,
     "start_time": "2025-10-23T01:36:28.035502",
     "status": "completed"
    },
    "tags": []
   },
   "outputs": [
    {
     "name": "stdout",
     "output_type": "stream",
     "text": [
      "Epoch 0: Train Acc (0.5583333373069763), Test Acc (0.6000000238418579)\n",
      "Epoch 10: Train Acc (0.8333333730697632), Test Acc (0.8333333730697632)\n",
      "Epoch 20: Train Acc (0.8750000596046448), Test Acc (0.8333333730697632)\n",
      "Epoch 30: Train Acc (0.9250000715255737), Test Acc (0.8333333730697632)\n",
      "Epoch 40: Train Acc (0.9666666984558105), Test Acc (0.8333333730697632)\n",
      "Epoch 50: Train Acc (0.98333340883255), Test Acc (0.9000000357627869)\n",
      "Epoch 60: Train Acc (0.98333340883255), Test Acc (0.9333333969116211)\n",
      "Epoch 70: Train Acc (0.98333340883255), Test Acc (0.9666666984558105)\n",
      "Epoch 80: Train Acc (0.98333340883255), Test Acc (0.9666666984558105)\n",
      "Epoch 90: Train Acc (0.98333340883255), Test Acc (0.9666666984558105)\n",
      "Epoch 100: Train Acc (0.98333340883255), Test Acc (0.9666666984558105)\n",
      "Epoch 110: Train Acc (0.98333340883255), Test Acc (0.9666666984558105)\n",
      "Epoch 120: Train Acc (0.98333340883255), Test Acc (0.9666666984558105)\n",
      "Epoch 130: Train Acc (0.98333340883255), Test Acc (0.9666666984558105)\n",
      "Epoch 140: Train Acc (0.98333340883255), Test Acc (0.9666666984558105)\n",
      "Epoch 150: Train Acc (0.98333340883255), Test Acc (0.9666666984558105)\n",
      "Epoch 160: Train Acc (0.98333340883255), Test Acc (0.9666666984558105)\n",
      "Epoch 170: Train Acc (0.98333340883255), Test Acc (0.9666666984558105)\n",
      "Epoch 180: Train Acc (0.98333340883255), Test Acc (0.9666666984558105)\n",
      "Epoch 190: Train Acc (0.98333340883255), Test Acc (0.9666666984558105)\n",
      "Final Test Acc: 0.9666666984558105\n"
     ]
    }
   ],
   "source": [
    "random_key = jax.random.key(int(time.time()))\n",
    "input_dim = X_train.shape[1]\n",
    "hidden_dim1 = 16\n",
    "hidden_dim2 = 8\n",
    "output_dim = y_train.shape [1]\n",
    "learning_rate = 0.005\n",
    "batch_size = 16\n",
    "epochs = 200\n",
    "\n",
    "params= init_params(input_dim, hidden_dim1, hidden_dim2, output_dim, random_key)\n",
    "\n",
    "for epoch in range(epochs):\n",
    "    for X_batch, y_batch in data_loader (X_train, y_train, batch_size):\n",
    "        params = train_step(params, X_batch, y_batch, learning_rate)\n",
    "\n",
    "    if epoch % 10 == 0:\n",
    "        train_acc = accuracy(params, X_train, y_train)\n",
    "        test_acc = accuracy(params, X_test, y_test)\n",
    "\n",
    "        print(f'Epoch {epoch}: Train Acc ({train_acc}), Test Acc ({test_acc})')\n",
    "\n",
    "\n",
    "\n",
    "print(f'Final Test Acc: {accuracy(params,X_test,y_test)}')\n",
    "\n"
   ]
  }
 ],
 "metadata": {
  "colab": {
   "authorship_tag": "ABX9TyPi++xOc35QbyhuwFGtDMHW",
   "provenance": []
  },
  "kernelspec": {
   "display_name": "Python 3",
   "name": "python3"
  },
  "language_info": {
   "codemirror_mode": {
    "name": "ipython",
    "version": 3
   },
   "file_extension": ".py",
   "mimetype": "text/x-python",
   "name": "python",
   "nbconvert_exporter": "python",
   "pygments_lexer": "ipython3",
   "version": "3.11.13"
  },
  "papermill": {
   "default_parameters": {},
   "duration": 117.709475,
   "end_time": "2025-10-23T01:36:34.167710",
   "environment_variables": {},
   "exception": null,
   "input_path": "__notebook__.ipynb",
   "output_path": "__notebook__.ipynb",
   "parameters": {},
   "start_time": "2025-10-23T01:34:36.458235",
   "version": "2.6.0"
  },
  "widgets": {
   "application/vnd.jupyter.widget-state+json": {
    "state": {
     "0136e78085a14ecdbc4d700e9a21115c": {
      "model_module": "@jupyter-widgets/base",
      "model_module_version": "2.0.0",
      "model_name": "LayoutModel",
      "state": {
       "_model_module": "@jupyter-widgets/base",
       "_model_module_version": "2.0.0",
       "_model_name": "LayoutModel",
       "_view_count": null,
       "_view_module": "@jupyter-widgets/base",
       "_view_module_version": "2.0.0",
       "_view_name": "LayoutView",
       "align_content": null,
       "align_items": null,
       "align_self": null,
       "border_bottom": null,
       "border_left": null,
       "border_right": null,
       "border_top": null,
       "bottom": null,
       "display": null,
       "flex": null,
       "flex_flow": null,
       "grid_area": null,
       "grid_auto_columns": null,
       "grid_auto_flow": null,
       "grid_auto_rows": null,
       "grid_column": null,
       "grid_gap": null,
       "grid_row": null,
       "grid_template_areas": null,
       "grid_template_columns": null,
       "grid_template_rows": null,
       "height": null,
       "justify_content": null,
       "justify_items": null,
       "left": null,
       "margin": null,
       "max_height": null,
       "max_width": null,
       "min_height": null,
       "min_width": null,
       "object_fit": null,
       "object_position": null,
       "order": null,
       "overflow": null,
       "padding": null,
       "right": null,
       "top": null,
       "visibility": null,
       "width": "20px"
      }
     },
     "01cc88cfa9b443728ea165d2ffa92b69": {
      "model_module": "@jupyter-widgets/controls",
      "model_module_version": "2.0.0",
      "model_name": "HTMLStyleModel",
      "state": {
       "_model_module": "@jupyter-widgets/controls",
       "_model_module_version": "2.0.0",
       "_model_name": "HTMLStyleModel",
       "_view_count": null,
       "_view_module": "@jupyter-widgets/base",
       "_view_module_version": "2.0.0",
       "_view_name": "StyleView",
       "background": null,
       "description_width": "",
       "font_size": null,
       "text_color": null
      }
     },
     "0353c18a232e43dca823eef1240f1919": {
      "model_module": "@jupyter-widgets/controls",
      "model_module_version": "2.0.0",
      "model_name": "HBoxModel",
      "state": {
       "_dom_classes": [],
       "_model_module": "@jupyter-widgets/controls",
       "_model_module_version": "2.0.0",
       "_model_name": "HBoxModel",
       "_view_count": null,
       "_view_module": "@jupyter-widgets/controls",
       "_view_module_version": "2.0.0",
       "_view_name": "HBoxView",
       "box_style": "",
       "children": [
        "IPY_MODEL_ab3f67bbd9e14e64a610cf5bd5f8bb47",
        "IPY_MODEL_cdc0b7df997e4ecfb12b380c3ab746bb",
        "IPY_MODEL_43c13506e4984ddebc587cb6d360879d"
       ],
       "layout": "IPY_MODEL_6317da90c963468897418b1daf28a2a4",
       "tabbable": null,
       "tooltip": null
      }
     },
     "05cace86ecaf4bb78ca63407fa75da0d": {
      "model_module": "@jupyter-widgets/base",
      "model_module_version": "2.0.0",
      "model_name": "LayoutModel",
      "state": {
       "_model_module": "@jupyter-widgets/base",
       "_model_module_version": "2.0.0",
       "_model_name": "LayoutModel",
       "_view_count": null,
       "_view_module": "@jupyter-widgets/base",
       "_view_module_version": "2.0.0",
       "_view_name": "LayoutView",
       "align_content": null,
       "align_items": null,
       "align_self": null,
       "border_bottom": null,
       "border_left": null,
       "border_right": null,
       "border_top": null,
       "bottom": null,
       "display": null,
       "flex": null,
       "flex_flow": null,
       "grid_area": null,
       "grid_auto_columns": null,
       "grid_auto_flow": null,
       "grid_auto_rows": null,
       "grid_column": null,
       "grid_gap": null,
       "grid_row": null,
       "grid_template_areas": null,
       "grid_template_columns": null,
       "grid_template_rows": null,
       "height": null,
       "justify_content": null,
       "justify_items": null,
       "left": null,
       "margin": null,
       "max_height": null,
       "max_width": null,
       "min_height": null,
       "min_width": null,
       "object_fit": null,
       "object_position": null,
       "order": null,
       "overflow": null,
       "padding": null,
       "right": null,
       "top": null,
       "visibility": null,
       "width": null
      }
     },
     "05ee8c187a324334956131c866eb1aff": {
      "model_module": "@jupyter-widgets/controls",
      "model_module_version": "2.0.0",
      "model_name": "HTMLStyleModel",
      "state": {
       "_model_module": "@jupyter-widgets/controls",
       "_model_module_version": "2.0.0",
       "_model_name": "HTMLStyleModel",
       "_view_count": null,
       "_view_module": "@jupyter-widgets/base",
       "_view_module_version": "2.0.0",
       "_view_name": "StyleView",
       "background": null,
       "description_width": "",
       "font_size": null,
       "text_color": null
      }
     },
     "069e699672a641d2bc8c808770182155": {
      "model_module": "@jupyter-widgets/controls",
      "model_module_version": "2.0.0",
      "model_name": "HTMLStyleModel",
      "state": {
       "_model_module": "@jupyter-widgets/controls",
       "_model_module_version": "2.0.0",
       "_model_name": "HTMLStyleModel",
       "_view_count": null,
       "_view_module": "@jupyter-widgets/base",
       "_view_module_version": "2.0.0",
       "_view_name": "StyleView",
       "background": null,
       "description_width": "",
       "font_size": null,
       "text_color": null
      }
     },
     "0f92f2244a004ade896ea3ec1af542c1": {
      "model_module": "@jupyter-widgets/controls",
      "model_module_version": "2.0.0",
      "model_name": "HTMLStyleModel",
      "state": {
       "_model_module": "@jupyter-widgets/controls",
       "_model_module_version": "2.0.0",
       "_model_name": "HTMLStyleModel",
       "_view_count": null,
       "_view_module": "@jupyter-widgets/base",
       "_view_module_version": "2.0.0",
       "_view_name": "StyleView",
       "background": null,
       "description_width": "",
       "font_size": null,
       "text_color": null
      }
     },
     "1062f8018aca442d912bff94ca1c0474": {
      "model_module": "@jupyter-widgets/base",
      "model_module_version": "2.0.0",
      "model_name": "LayoutModel",
      "state": {
       "_model_module": "@jupyter-widgets/base",
       "_model_module_version": "2.0.0",
       "_model_name": "LayoutModel",
       "_view_count": null,
       "_view_module": "@jupyter-widgets/base",
       "_view_module_version": "2.0.0",
       "_view_name": "LayoutView",
       "align_content": null,
       "align_items": null,
       "align_self": null,
       "border_bottom": null,
       "border_left": null,
       "border_right": null,
       "border_top": null,
       "bottom": null,
       "display": null,
       "flex": null,
       "flex_flow": null,
       "grid_area": null,
       "grid_auto_columns": null,
       "grid_auto_flow": null,
       "grid_auto_rows": null,
       "grid_column": null,
       "grid_gap": null,
       "grid_row": null,
       "grid_template_areas": null,
       "grid_template_columns": null,
       "grid_template_rows": null,
       "height": null,
       "justify_content": null,
       "justify_items": null,
       "left": null,
       "margin": null,
       "max_height": null,
       "max_width": null,
       "min_height": null,
       "min_width": null,
       "object_fit": null,
       "object_position": null,
       "order": null,
       "overflow": null,
       "padding": null,
       "right": null,
       "top": null,
       "visibility": null,
       "width": "20px"
      }
     },
     "126b6a206df44e12ac1d8bcf965d77b9": {
      "model_module": "@jupyter-widgets/controls",
      "model_module_version": "2.0.0",
      "model_name": "FloatProgressModel",
      "state": {
       "_dom_classes": [],
       "_model_module": "@jupyter-widgets/controls",
       "_model_module_version": "2.0.0",
       "_model_name": "FloatProgressModel",
       "_view_count": null,
       "_view_module": "@jupyter-widgets/controls",
       "_view_module_version": "2.0.0",
       "_view_name": "ProgressView",
       "bar_style": "success",
       "description": "",
       "description_allow_html": false,
       "layout": "IPY_MODEL_da201f145134431f8c305096bded617a",
       "max": 1.0,
       "min": 0.0,
       "orientation": "horizontal",
       "style": "IPY_MODEL_1891c2f1e2fa4203a1b2bc9417cb7c74",
       "tabbable": null,
       "tooltip": null,
       "value": 1.0
      }
     },
     "153f360082e94ddf80940e7974eb008f": {
      "model_module": "@jupyter-widgets/controls",
      "model_module_version": "2.0.0",
      "model_name": "ProgressStyleModel",
      "state": {
       "_model_module": "@jupyter-widgets/controls",
       "_model_module_version": "2.0.0",
       "_model_name": "ProgressStyleModel",
       "_view_count": null,
       "_view_module": "@jupyter-widgets/base",
       "_view_module_version": "2.0.0",
       "_view_name": "StyleView",
       "bar_color": null,
       "description_width": ""
      }
     },
     "1891c2f1e2fa4203a1b2bc9417cb7c74": {
      "model_module": "@jupyter-widgets/controls",
      "model_module_version": "2.0.0",
      "model_name": "ProgressStyleModel",
      "state": {
       "_model_module": "@jupyter-widgets/controls",
       "_model_module_version": "2.0.0",
       "_model_name": "ProgressStyleModel",
       "_view_count": null,
       "_view_module": "@jupyter-widgets/base",
       "_view_module_version": "2.0.0",
       "_view_name": "StyleView",
       "bar_color": null,
       "description_width": ""
      }
     },
     "1a48042322264d00b2f56c688caeb66d": {
      "model_module": "@jupyter-widgets/controls",
      "model_module_version": "2.0.0",
      "model_name": "HTMLStyleModel",
      "state": {
       "_model_module": "@jupyter-widgets/controls",
       "_model_module_version": "2.0.0",
       "_model_name": "HTMLStyleModel",
       "_view_count": null,
       "_view_module": "@jupyter-widgets/base",
       "_view_module_version": "2.0.0",
       "_view_name": "StyleView",
       "background": null,
       "description_width": "",
       "font_size": null,
       "text_color": null
      }
     },
     "1aa5491236814b029a02a96f03e5910e": {
      "model_module": "@jupyter-widgets/base",
      "model_module_version": "2.0.0",
      "model_name": "LayoutModel",
      "state": {
       "_model_module": "@jupyter-widgets/base",
       "_model_module_version": "2.0.0",
       "_model_name": "LayoutModel",
       "_view_count": null,
       "_view_module": "@jupyter-widgets/base",
       "_view_module_version": "2.0.0",
       "_view_name": "LayoutView",
       "align_content": null,
       "align_items": null,
       "align_self": null,
       "border_bottom": null,
       "border_left": null,
       "border_right": null,
       "border_top": null,
       "bottom": null,
       "display": null,
       "flex": null,
       "flex_flow": null,
       "grid_area": null,
       "grid_auto_columns": null,
       "grid_auto_flow": null,
       "grid_auto_rows": null,
       "grid_column": null,
       "grid_gap": null,
       "grid_row": null,
       "grid_template_areas": null,
       "grid_template_columns": null,
       "grid_template_rows": null,
       "height": null,
       "justify_content": null,
       "justify_items": null,
       "left": null,
       "margin": null,
       "max_height": null,
       "max_width": null,
       "min_height": null,
       "min_width": null,
       "object_fit": null,
       "object_position": null,
       "order": null,
       "overflow": null,
       "padding": null,
       "right": null,
       "top": null,
       "visibility": null,
       "width": null
      }
     },
     "1b98165942b24997a6021f718a803866": {
      "model_module": "@jupyter-widgets/base",
      "model_module_version": "2.0.0",
      "model_name": "LayoutModel",
      "state": {
       "_model_module": "@jupyter-widgets/base",
       "_model_module_version": "2.0.0",
       "_model_name": "LayoutModel",
       "_view_count": null,
       "_view_module": "@jupyter-widgets/base",
       "_view_module_version": "2.0.0",
       "_view_name": "LayoutView",
       "align_content": null,
       "align_items": null,
       "align_self": null,
       "border_bottom": null,
       "border_left": null,
       "border_right": null,
       "border_top": null,
       "bottom": null,
       "display": null,
       "flex": null,
       "flex_flow": null,
       "grid_area": null,
       "grid_auto_columns": null,
       "grid_auto_flow": null,
       "grid_auto_rows": null,
       "grid_column": null,
       "grid_gap": null,
       "grid_row": null,
       "grid_template_areas": null,
       "grid_template_columns": null,
       "grid_template_rows": null,
       "height": null,
       "justify_content": null,
       "justify_items": null,
       "left": null,
       "margin": null,
       "max_height": null,
       "max_width": null,
       "min_height": null,
       "min_width": null,
       "object_fit": null,
       "object_position": null,
       "order": null,
       "overflow": null,
       "padding": null,
       "right": null,
       "top": null,
       "visibility": null,
       "width": "20px"
      }
     },
     "1cf368ec78934ee2b589d08ea9b806e8": {
      "model_module": "@jupyter-widgets/controls",
      "model_module_version": "2.0.0",
      "model_name": "FloatProgressModel",
      "state": {
       "_dom_classes": [],
       "_model_module": "@jupyter-widgets/controls",
       "_model_module_version": "2.0.0",
       "_model_name": "FloatProgressModel",
       "_view_count": null,
       "_view_module": "@jupyter-widgets/controls",
       "_view_module_version": "2.0.0",
       "_view_name": "ProgressView",
       "bar_style": "",
       "description": "",
       "description_allow_html": false,
       "layout": "IPY_MODEL_2572b2aac06849eeb20ab915040b11d4",
       "max": 60000.0,
       "min": 0.0,
       "orientation": "horizontal",
       "style": "IPY_MODEL_f71570bbfdd646aab296d68a3b2478d3",
       "tabbable": null,
       "tooltip": null,
       "value": 60000.0
      }
     },
     "1f00a1e10f5b4083badb3f2cbab6d09b": {
      "model_module": "@jupyter-widgets/controls",
      "model_module_version": "2.0.0",
      "model_name": "ProgressStyleModel",
      "state": {
       "_model_module": "@jupyter-widgets/controls",
       "_model_module_version": "2.0.0",
       "_model_name": "ProgressStyleModel",
       "_view_count": null,
       "_view_module": "@jupyter-widgets/base",
       "_view_module_version": "2.0.0",
       "_view_name": "StyleView",
       "bar_color": null,
       "description_width": ""
      }
     },
     "1f83c9915b414c70a6bb739d2f2971c1": {
      "model_module": "@jupyter-widgets/controls",
      "model_module_version": "2.0.0",
      "model_name": "HTMLModel",
      "state": {
       "_dom_classes": [],
       "_model_module": "@jupyter-widgets/controls",
       "_model_module_version": "2.0.0",
       "_model_name": "HTMLModel",
       "_view_count": null,
       "_view_module": "@jupyter-widgets/controls",
       "_view_module_version": "2.0.0",
       "_view_name": "HTMLView",
       "description": "",
       "description_allow_html": false,
       "layout": "IPY_MODEL_ddd06a64c77645bca60f9b1c9ccc9e1c",
       "placeholder": "​",
       "style": "IPY_MODEL_01cc88cfa9b443728ea165d2ffa92b69",
       "tabbable": null,
       "tooltip": null,
       "value": " 0/10000 [00:00&lt;?, ? examples/s]"
      }
     },
     "20e33e1d315d4904aaa085f30d19fb83": {
      "model_module": "@jupyter-widgets/controls",
      "model_module_version": "2.0.0",
      "model_name": "ProgressStyleModel",
      "state": {
       "_model_module": "@jupyter-widgets/controls",
       "_model_module_version": "2.0.0",
       "_model_name": "ProgressStyleModel",
       "_view_count": null,
       "_view_module": "@jupyter-widgets/base",
       "_view_module_version": "2.0.0",
       "_view_name": "StyleView",
       "bar_color": null,
       "description_width": ""
      }
     },
     "223f9d3e23fd4ca185b008e31301f177": {
      "model_module": "@jupyter-widgets/base",
      "model_module_version": "2.0.0",
      "model_name": "LayoutModel",
      "state": {
       "_model_module": "@jupyter-widgets/base",
       "_model_module_version": "2.0.0",
       "_model_name": "LayoutModel",
       "_view_count": null,
       "_view_module": "@jupyter-widgets/base",
       "_view_module_version": "2.0.0",
       "_view_name": "LayoutView",
       "align_content": null,
       "align_items": null,
       "align_self": null,
       "border_bottom": null,
       "border_left": null,
       "border_right": null,
       "border_top": null,
       "bottom": null,
       "display": null,
       "flex": null,
       "flex_flow": null,
       "grid_area": null,
       "grid_auto_columns": null,
       "grid_auto_flow": null,
       "grid_auto_rows": null,
       "grid_column": null,
       "grid_gap": null,
       "grid_row": null,
       "grid_template_areas": null,
       "grid_template_columns": null,
       "grid_template_rows": null,
       "height": null,
       "justify_content": null,
       "justify_items": null,
       "left": null,
       "margin": null,
       "max_height": null,
       "max_width": null,
       "min_height": null,
       "min_width": null,
       "object_fit": null,
       "object_position": null,
       "order": null,
       "overflow": null,
       "padding": null,
       "right": null,
       "top": null,
       "visibility": null,
       "width": null
      }
     },
     "2572b2aac06849eeb20ab915040b11d4": {
      "model_module": "@jupyter-widgets/base",
      "model_module_version": "2.0.0",
      "model_name": "LayoutModel",
      "state": {
       "_model_module": "@jupyter-widgets/base",
       "_model_module_version": "2.0.0",
       "_model_name": "LayoutModel",
       "_view_count": null,
       "_view_module": "@jupyter-widgets/base",
       "_view_module_version": "2.0.0",
       "_view_name": "LayoutView",
       "align_content": null,
       "align_items": null,
       "align_self": null,
       "border_bottom": null,
       "border_left": null,
       "border_right": null,
       "border_top": null,
       "bottom": null,
       "display": null,
       "flex": null,
       "flex_flow": null,
       "grid_area": null,
       "grid_auto_columns": null,
       "grid_auto_flow": null,
       "grid_auto_rows": null,
       "grid_column": null,
       "grid_gap": null,
       "grid_row": null,
       "grid_template_areas": null,
       "grid_template_columns": null,
       "grid_template_rows": null,
       "height": null,
       "justify_content": null,
       "justify_items": null,
       "left": null,
       "margin": null,
       "max_height": null,
       "max_width": null,
       "min_height": null,
       "min_width": null,
       "object_fit": null,
       "object_position": null,
       "order": null,
       "overflow": null,
       "padding": null,
       "right": null,
       "top": null,
       "visibility": null,
       "width": null
      }
     },
     "2610ca5fa47c4fc1b63dabde3744c5bf": {
      "model_module": "@jupyter-widgets/controls",
      "model_module_version": "2.0.0",
      "model_name": "HTMLStyleModel",
      "state": {
       "_model_module": "@jupyter-widgets/controls",
       "_model_module_version": "2.0.0",
       "_model_name": "HTMLStyleModel",
       "_view_count": null,
       "_view_module": "@jupyter-widgets/base",
       "_view_module_version": "2.0.0",
       "_view_name": "StyleView",
       "background": null,
       "description_width": "",
       "font_size": null,
       "text_color": null
      }
     },
     "2d9d2f70a08f48a3b9b81fe87d0ddf31": {
      "model_module": "@jupyter-widgets/controls",
      "model_module_version": "2.0.0",
      "model_name": "HBoxModel",
      "state": {
       "_dom_classes": [],
       "_model_module": "@jupyter-widgets/controls",
       "_model_module_version": "2.0.0",
       "_model_name": "HBoxModel",
       "_view_count": null,
       "_view_module": "@jupyter-widgets/controls",
       "_view_module_version": "2.0.0",
       "_view_name": "HBoxView",
       "box_style": "",
       "children": [
        "IPY_MODEL_fb6bcd738b114907adac2830e8d55ad9",
        "IPY_MODEL_36bd1c4327e44e6aa80a43c3fbb81733",
        "IPY_MODEL_1f83c9915b414c70a6bb739d2f2971c1"
       ],
       "layout": "IPY_MODEL_a28fbc8eb644431eaa561c4c5954bf0a",
       "tabbable": null,
       "tooltip": null
      }
     },
     "361793198ea4455293487e8dc72d9559": {
      "model_module": "@jupyter-widgets/controls",
      "model_module_version": "2.0.0",
      "model_name": "HTMLModel",
      "state": {
       "_dom_classes": [],
       "_model_module": "@jupyter-widgets/controls",
       "_model_module_version": "2.0.0",
       "_model_name": "HTMLModel",
       "_view_count": null,
       "_view_module": "@jupyter-widgets/controls",
       "_view_module_version": "2.0.0",
       "_view_name": "HTMLView",
       "description": "",
       "description_allow_html": false,
       "layout": "IPY_MODEL_1aa5491236814b029a02a96f03e5910e",
       "placeholder": "​",
       "style": "IPY_MODEL_5fa55afec9b141568959b887d2845a01",
       "tabbable": null,
       "tooltip": null,
       "value": "Dl Size...: 100%"
      }
     },
     "36bd1c4327e44e6aa80a43c3fbb81733": {
      "model_module": "@jupyter-widgets/controls",
      "model_module_version": "2.0.0",
      "model_name": "FloatProgressModel",
      "state": {
       "_dom_classes": [],
       "_model_module": "@jupyter-widgets/controls",
       "_model_module_version": "2.0.0",
       "_model_name": "FloatProgressModel",
       "_view_count": null,
       "_view_module": "@jupyter-widgets/controls",
       "_view_module_version": "2.0.0",
       "_view_name": "ProgressView",
       "bar_style": "",
       "description": "",
       "description_allow_html": false,
       "layout": "IPY_MODEL_5463d944676947ed836caaf6477cf9a2",
       "max": 10000.0,
       "min": 0.0,
       "orientation": "horizontal",
       "style": "IPY_MODEL_20e33e1d315d4904aaa085f30d19fb83",
       "tabbable": null,
       "tooltip": null,
       "value": 10000.0
      }
     },
     "3980c89a5c4e4b70ba02f2b3317f4d4d": {
      "model_module": "@jupyter-widgets/base",
      "model_module_version": "2.0.0",
      "model_name": "LayoutModel",
      "state": {
       "_model_module": "@jupyter-widgets/base",
       "_model_module_version": "2.0.0",
       "_model_name": "LayoutModel",
       "_view_count": null,
       "_view_module": "@jupyter-widgets/base",
       "_view_module_version": "2.0.0",
       "_view_name": "LayoutView",
       "align_content": null,
       "align_items": null,
       "align_self": null,
       "border_bottom": null,
       "border_left": null,
       "border_right": null,
       "border_top": null,
       "bottom": null,
       "display": null,
       "flex": null,
       "flex_flow": null,
       "grid_area": null,
       "grid_auto_columns": null,
       "grid_auto_flow": null,
       "grid_auto_rows": null,
       "grid_column": null,
       "grid_gap": null,
       "grid_row": null,
       "grid_template_areas": null,
       "grid_template_columns": null,
       "grid_template_rows": null,
       "height": null,
       "justify_content": null,
       "justify_items": null,
       "left": null,
       "margin": null,
       "max_height": null,
       "max_width": null,
       "min_height": null,
       "min_width": null,
       "object_fit": null,
       "object_position": null,
       "order": null,
       "overflow": null,
       "padding": null,
       "right": null,
       "top": null,
       "visibility": null,
       "width": null
      }
     },
     "3cd8fccfc5864ab78f5097f95eafdeea": {
      "model_module": "@jupyter-widgets/base",
      "model_module_version": "2.0.0",
      "model_name": "LayoutModel",
      "state": {
       "_model_module": "@jupyter-widgets/base",
       "_model_module_version": "2.0.0",
       "_model_name": "LayoutModel",
       "_view_count": null,
       "_view_module": "@jupyter-widgets/base",
       "_view_module_version": "2.0.0",
       "_view_name": "LayoutView",
       "align_content": null,
       "align_items": null,
       "align_self": null,
       "border_bottom": null,
       "border_left": null,
       "border_right": null,
       "border_top": null,
       "bottom": null,
       "display": null,
       "flex": null,
       "flex_flow": null,
       "grid_area": null,
       "grid_auto_columns": null,
       "grid_auto_flow": null,
       "grid_auto_rows": null,
       "grid_column": null,
       "grid_gap": null,
       "grid_row": null,
       "grid_template_areas": null,
       "grid_template_columns": null,
       "grid_template_rows": null,
       "height": null,
       "justify_content": null,
       "justify_items": null,
       "left": null,
       "margin": null,
       "max_height": null,
       "max_width": null,
       "min_height": null,
       "min_width": null,
       "object_fit": null,
       "object_position": null,
       "order": null,
       "overflow": null,
       "padding": null,
       "right": null,
       "top": null,
       "visibility": null,
       "width": "20px"
      }
     },
     "3d1bce728100427ca0c594fd3b7e2e46": {
      "model_module": "@jupyter-widgets/base",
      "model_module_version": "2.0.0",
      "model_name": "LayoutModel",
      "state": {
       "_model_module": "@jupyter-widgets/base",
       "_model_module_version": "2.0.0",
       "_model_name": "LayoutModel",
       "_view_count": null,
       "_view_module": "@jupyter-widgets/base",
       "_view_module_version": "2.0.0",
       "_view_name": "LayoutView",
       "align_content": null,
       "align_items": null,
       "align_self": null,
       "border_bottom": null,
       "border_left": null,
       "border_right": null,
       "border_top": null,
       "bottom": null,
       "display": null,
       "flex": null,
       "flex_flow": null,
       "grid_area": null,
       "grid_auto_columns": null,
       "grid_auto_flow": null,
       "grid_auto_rows": null,
       "grid_column": null,
       "grid_gap": null,
       "grid_row": null,
       "grid_template_areas": null,
       "grid_template_columns": null,
       "grid_template_rows": null,
       "height": null,
       "justify_content": null,
       "justify_items": null,
       "left": null,
       "margin": null,
       "max_height": null,
       "max_width": null,
       "min_height": null,
       "min_width": null,
       "object_fit": null,
       "object_position": null,
       "order": null,
       "overflow": null,
       "padding": null,
       "right": null,
       "top": null,
       "visibility": null,
       "width": null
      }
     },
     "3e88ccb9551a44449d88a71ad22faf80": {
      "model_module": "@jupyter-widgets/controls",
      "model_module_version": "2.0.0",
      "model_name": "HTMLStyleModel",
      "state": {
       "_model_module": "@jupyter-widgets/controls",
       "_model_module_version": "2.0.0",
       "_model_name": "HTMLStyleModel",
       "_view_count": null,
       "_view_module": "@jupyter-widgets/base",
       "_view_module_version": "2.0.0",
       "_view_name": "StyleView",
       "background": null,
       "description_width": "",
       "font_size": null,
       "text_color": null
      }
     },
     "43c13506e4984ddebc587cb6d360879d": {
      "model_module": "@jupyter-widgets/controls",
      "model_module_version": "2.0.0",
      "model_name": "HTMLModel",
      "state": {
       "_dom_classes": [],
       "_model_module": "@jupyter-widgets/controls",
       "_model_module_version": "2.0.0",
       "_model_name": "HTMLModel",
       "_view_count": null,
       "_view_module": "@jupyter-widgets/controls",
       "_view_module_version": "2.0.0",
       "_view_name": "HTMLView",
       "description": "",
       "description_allow_html": false,
       "layout": "IPY_MODEL_a8b3c5c212d349fab10458747fbc7eb9",
       "placeholder": "​",
       "style": "IPY_MODEL_644e5986d8c244a9b33ce7778dc78e0b",
       "tabbable": null,
       "tooltip": null,
       "value": " 8476/? [00:03&lt;00:00, 2878.24 examples/s]"
      }
     },
     "446df2e7b1fc49c0b4d23e7d6adb8ef7": {
      "model_module": "@jupyter-widgets/base",
      "model_module_version": "2.0.0",
      "model_name": "LayoutModel",
      "state": {
       "_model_module": "@jupyter-widgets/base",
       "_model_module_version": "2.0.0",
       "_model_name": "LayoutModel",
       "_view_count": null,
       "_view_module": "@jupyter-widgets/base",
       "_view_module_version": "2.0.0",
       "_view_name": "LayoutView",
       "align_content": null,
       "align_items": null,
       "align_self": null,
       "border_bottom": null,
       "border_left": null,
       "border_right": null,
       "border_top": null,
       "bottom": null,
       "display": null,
       "flex": null,
       "flex_flow": null,
       "grid_area": null,
       "grid_auto_columns": null,
       "grid_auto_flow": null,
       "grid_auto_rows": null,
       "grid_column": null,
       "grid_gap": null,
       "grid_row": null,
       "grid_template_areas": null,
       "grid_template_columns": null,
       "grid_template_rows": null,
       "height": null,
       "justify_content": null,
       "justify_items": null,
       "left": null,
       "margin": null,
       "max_height": null,
       "max_width": null,
       "min_height": null,
       "min_width": null,
       "object_fit": null,
       "object_position": null,
       "order": null,
       "overflow": null,
       "padding": null,
       "right": null,
       "top": null,
       "visibility": null,
       "width": null
      }
     },
     "4979e1db97164b3fb9c1345dd0b1c214": {
      "model_module": "@jupyter-widgets/controls",
      "model_module_version": "2.0.0",
      "model_name": "HBoxModel",
      "state": {
       "_dom_classes": [],
       "_model_module": "@jupyter-widgets/controls",
       "_model_module_version": "2.0.0",
       "_model_name": "HBoxModel",
       "_view_count": null,
       "_view_module": "@jupyter-widgets/controls",
       "_view_module_version": "2.0.0",
       "_view_name": "HBoxView",
       "box_style": "",
       "children": [
        "IPY_MODEL_dffdfae84db14e339582747b62b72188",
        "IPY_MODEL_1cf368ec78934ee2b589d08ea9b806e8",
        "IPY_MODEL_60f442090bf845b0af15fcce11729891"
       ],
       "layout": "IPY_MODEL_f12b4e4fde9041ef8fd6e8f801d765e7",
       "tabbable": null,
       "tooltip": null
      }
     },
     "4e0073074cb14260b54a2f69e93ea4fd": {
      "model_module": "@jupyter-widgets/base",
      "model_module_version": "2.0.0",
      "model_name": "LayoutModel",
      "state": {
       "_model_module": "@jupyter-widgets/base",
       "_model_module_version": "2.0.0",
       "_model_name": "LayoutModel",
       "_view_count": null,
       "_view_module": "@jupyter-widgets/base",
       "_view_module_version": "2.0.0",
       "_view_name": "LayoutView",
       "align_content": null,
       "align_items": null,
       "align_self": null,
       "border_bottom": null,
       "border_left": null,
       "border_right": null,
       "border_top": null,
       "bottom": null,
       "display": null,
       "flex": null,
       "flex_flow": null,
       "grid_area": null,
       "grid_auto_columns": null,
       "grid_auto_flow": null,
       "grid_auto_rows": null,
       "grid_column": null,
       "grid_gap": null,
       "grid_row": null,
       "grid_template_areas": null,
       "grid_template_columns": null,
       "grid_template_rows": null,
       "height": null,
       "justify_content": null,
       "justify_items": null,
       "left": null,
       "margin": null,
       "max_height": null,
       "max_width": null,
       "min_height": null,
       "min_width": null,
       "object_fit": null,
       "object_position": null,
       "order": null,
       "overflow": null,
       "padding": null,
       "right": null,
       "top": null,
       "visibility": null,
       "width": null
      }
     },
     "520fafee73164f2894933411f2a870ec": {
      "model_module": "@jupyter-widgets/controls",
      "model_module_version": "2.0.0",
      "model_name": "FloatProgressModel",
      "state": {
       "_dom_classes": [],
       "_model_module": "@jupyter-widgets/controls",
       "_model_module_version": "2.0.0",
       "_model_name": "FloatProgressModel",
       "_view_count": null,
       "_view_module": "@jupyter-widgets/controls",
       "_view_module_version": "2.0.0",
       "_view_name": "ProgressView",
       "bar_style": "",
       "description": "",
       "description_allow_html": false,
       "layout": "IPY_MODEL_7765a353ef054f7d8675fd6459f4e963",
       "max": 2.0,
       "min": 0.0,
       "orientation": "horizontal",
       "style": "IPY_MODEL_1f00a1e10f5b4083badb3f2cbab6d09b",
       "tabbable": null,
       "tooltip": null,
       "value": 2.0
      }
     },
     "5463d944676947ed836caaf6477cf9a2": {
      "model_module": "@jupyter-widgets/base",
      "model_module_version": "2.0.0",
      "model_name": "LayoutModel",
      "state": {
       "_model_module": "@jupyter-widgets/base",
       "_model_module_version": "2.0.0",
       "_model_name": "LayoutModel",
       "_view_count": null,
       "_view_module": "@jupyter-widgets/base",
       "_view_module_version": "2.0.0",
       "_view_name": "LayoutView",
       "align_content": null,
       "align_items": null,
       "align_self": null,
       "border_bottom": null,
       "border_left": null,
       "border_right": null,
       "border_top": null,
       "bottom": null,
       "display": null,
       "flex": null,
       "flex_flow": null,
       "grid_area": null,
       "grid_auto_columns": null,
       "grid_auto_flow": null,
       "grid_auto_rows": null,
       "grid_column": null,
       "grid_gap": null,
       "grid_row": null,
       "grid_template_areas": null,
       "grid_template_columns": null,
       "grid_template_rows": null,
       "height": null,
       "justify_content": null,
       "justify_items": null,
       "left": null,
       "margin": null,
       "max_height": null,
       "max_width": null,
       "min_height": null,
       "min_width": null,
       "object_fit": null,
       "object_position": null,
       "order": null,
       "overflow": null,
       "padding": null,
       "right": null,
       "top": null,
       "visibility": null,
       "width": null
      }
     },
     "5c8f7393f6094eb1a5564eebbb54d8a2": {
      "model_module": "@jupyter-widgets/controls",
      "model_module_version": "2.0.0",
      "model_name": "HTMLModel",
      "state": {
       "_dom_classes": [],
       "_model_module": "@jupyter-widgets/controls",
       "_model_module_version": "2.0.0",
       "_model_name": "HTMLModel",
       "_view_count": null,
       "_view_module": "@jupyter-widgets/controls",
       "_view_module_version": "2.0.0",
       "_view_name": "HTMLView",
       "description": "",
       "description_allow_html": false,
       "layout": "IPY_MODEL_f7340f30b7f84db5833f70b92249b677",
       "placeholder": "​",
       "style": "IPY_MODEL_8ff161f3a1494ca5a3da9f180d130256",
       "tabbable": null,
       "tooltip": null,
       "value": " 2/2 [00:24&lt;00:00, 10.91s/ splits]"
      }
     },
     "5fa55afec9b141568959b887d2845a01": {
      "model_module": "@jupyter-widgets/controls",
      "model_module_version": "2.0.0",
      "model_name": "HTMLStyleModel",
      "state": {
       "_model_module": "@jupyter-widgets/controls",
       "_model_module_version": "2.0.0",
       "_model_name": "HTMLStyleModel",
       "_view_count": null,
       "_view_module": "@jupyter-widgets/base",
       "_view_module_version": "2.0.0",
       "_view_name": "StyleView",
       "background": null,
       "description_width": "",
       "font_size": null,
       "text_color": null
      }
     },
     "60f442090bf845b0af15fcce11729891": {
      "model_module": "@jupyter-widgets/controls",
      "model_module_version": "2.0.0",
      "model_name": "HTMLModel",
      "state": {
       "_dom_classes": [],
       "_model_module": "@jupyter-widgets/controls",
       "_model_module_version": "2.0.0",
       "_model_name": "HTMLModel",
       "_view_count": null,
       "_view_module": "@jupyter-widgets/controls",
       "_view_module_version": "2.0.0",
       "_view_name": "HTMLView",
       "description": "",
       "description_allow_html": false,
       "layout": "IPY_MODEL_9bff289a405c4687a7f7a4bab1335cca",
       "placeholder": "​",
       "style": "IPY_MODEL_3e88ccb9551a44449d88a71ad22faf80",
       "tabbable": null,
       "tooltip": null,
       "value": " 0/60000 [00:00&lt;?, ? examples/s]"
      }
     },
     "6317da90c963468897418b1daf28a2a4": {
      "model_module": "@jupyter-widgets/base",
      "model_module_version": "2.0.0",
      "model_name": "LayoutModel",
      "state": {
       "_model_module": "@jupyter-widgets/base",
       "_model_module_version": "2.0.0",
       "_model_name": "LayoutModel",
       "_view_count": null,
       "_view_module": "@jupyter-widgets/base",
       "_view_module_version": "2.0.0",
       "_view_name": "LayoutView",
       "align_content": null,
       "align_items": null,
       "align_self": null,
       "border_bottom": null,
       "border_left": null,
       "border_right": null,
       "border_top": null,
       "bottom": null,
       "display": null,
       "flex": null,
       "flex_flow": null,
       "grid_area": null,
       "grid_auto_columns": null,
       "grid_auto_flow": null,
       "grid_auto_rows": null,
       "grid_column": null,
       "grid_gap": null,
       "grid_row": null,
       "grid_template_areas": null,
       "grid_template_columns": null,
       "grid_template_rows": null,
       "height": null,
       "justify_content": null,
       "justify_items": null,
       "left": null,
       "margin": null,
       "max_height": null,
       "max_width": null,
       "min_height": null,
       "min_width": null,
       "object_fit": null,
       "object_position": null,
       "order": null,
       "overflow": null,
       "padding": null,
       "right": null,
       "top": null,
       "visibility": "hidden",
       "width": null
      }
     },
     "644e5986d8c244a9b33ce7778dc78e0b": {
      "model_module": "@jupyter-widgets/controls",
      "model_module_version": "2.0.0",
      "model_name": "HTMLStyleModel",
      "state": {
       "_model_module": "@jupyter-widgets/controls",
       "_model_module_version": "2.0.0",
       "_model_name": "HTMLStyleModel",
       "_view_count": null,
       "_view_module": "@jupyter-widgets/base",
       "_view_module_version": "2.0.0",
       "_view_name": "StyleView",
       "background": null,
       "description_width": "",
       "font_size": null,
       "text_color": null
      }
     },
     "69a8f8142e954dc3a464cd45f5a1b828": {
      "model_module": "@jupyter-widgets/base",
      "model_module_version": "2.0.0",
      "model_name": "LayoutModel",
      "state": {
       "_model_module": "@jupyter-widgets/base",
       "_model_module_version": "2.0.0",
       "_model_name": "LayoutModel",
       "_view_count": null,
       "_view_module": "@jupyter-widgets/base",
       "_view_module_version": "2.0.0",
       "_view_name": "LayoutView",
       "align_content": null,
       "align_items": null,
       "align_self": null,
       "border_bottom": null,
       "border_left": null,
       "border_right": null,
       "border_top": null,
       "bottom": null,
       "display": null,
       "flex": null,
       "flex_flow": null,
       "grid_area": null,
       "grid_auto_columns": null,
       "grid_auto_flow": null,
       "grid_auto_rows": null,
       "grid_column": null,
       "grid_gap": null,
       "grid_row": null,
       "grid_template_areas": null,
       "grid_template_columns": null,
       "grid_template_rows": null,
       "height": null,
       "justify_content": null,
       "justify_items": null,
       "left": null,
       "margin": null,
       "max_height": null,
       "max_width": null,
       "min_height": null,
       "min_width": null,
       "object_fit": null,
       "object_position": null,
       "order": null,
       "overflow": null,
       "padding": null,
       "right": null,
       "top": null,
       "visibility": "hidden",
       "width": null
      }
     },
     "6a2be0e7650244b6aeb020987fe48ee6": {
      "model_module": "@jupyter-widgets/controls",
      "model_module_version": "2.0.0",
      "model_name": "HTMLModel",
      "state": {
       "_dom_classes": [],
       "_model_module": "@jupyter-widgets/controls",
       "_model_module_version": "2.0.0",
       "_model_name": "HTMLModel",
       "_view_count": null,
       "_view_module": "@jupyter-widgets/controls",
       "_view_module_version": "2.0.0",
       "_view_name": "HTMLView",
       "description": "",
       "description_allow_html": false,
       "layout": "IPY_MODEL_cd25cbb84a3140bd947d38ffa588b449",
       "placeholder": "​",
       "style": "IPY_MODEL_2610ca5fa47c4fc1b63dabde3744c5bf",
       "tabbable": null,
       "tooltip": null,
       "value": "Extraction completed...: 100%"
      }
     },
     "702610b48b594310b12f757d304bc4d5": {
      "model_module": "@jupyter-widgets/base",
      "model_module_version": "2.0.0",
      "model_name": "LayoutModel",
      "state": {
       "_model_module": "@jupyter-widgets/base",
       "_model_module_version": "2.0.0",
       "_model_name": "LayoutModel",
       "_view_count": null,
       "_view_module": "@jupyter-widgets/base",
       "_view_module_version": "2.0.0",
       "_view_name": "LayoutView",
       "align_content": null,
       "align_items": null,
       "align_self": null,
       "border_bottom": null,
       "border_left": null,
       "border_right": null,
       "border_top": null,
       "bottom": null,
       "display": null,
       "flex": null,
       "flex_flow": null,
       "grid_area": null,
       "grid_auto_columns": null,
       "grid_auto_flow": null,
       "grid_auto_rows": null,
       "grid_column": null,
       "grid_gap": null,
       "grid_row": null,
       "grid_template_areas": null,
       "grid_template_columns": null,
       "grid_template_rows": null,
       "height": null,
       "justify_content": null,
       "justify_items": null,
       "left": null,
       "margin": null,
       "max_height": null,
       "max_width": null,
       "min_height": null,
       "min_width": null,
       "object_fit": null,
       "object_position": null,
       "order": null,
       "overflow": null,
       "padding": null,
       "right": null,
       "top": null,
       "visibility": "hidden",
       "width": null
      }
     },
     "7765a353ef054f7d8675fd6459f4e963": {
      "model_module": "@jupyter-widgets/base",
      "model_module_version": "2.0.0",
      "model_name": "LayoutModel",
      "state": {
       "_model_module": "@jupyter-widgets/base",
       "_model_module_version": "2.0.0",
       "_model_name": "LayoutModel",
       "_view_count": null,
       "_view_module": "@jupyter-widgets/base",
       "_view_module_version": "2.0.0",
       "_view_name": "LayoutView",
       "align_content": null,
       "align_items": null,
       "align_self": null,
       "border_bottom": null,
       "border_left": null,
       "border_right": null,
       "border_top": null,
       "bottom": null,
       "display": null,
       "flex": null,
       "flex_flow": null,
       "grid_area": null,
       "grid_auto_columns": null,
       "grid_auto_flow": null,
       "grid_auto_rows": null,
       "grid_column": null,
       "grid_gap": null,
       "grid_row": null,
       "grid_template_areas": null,
       "grid_template_columns": null,
       "grid_template_rows": null,
       "height": null,
       "justify_content": null,
       "justify_items": null,
       "left": null,
       "margin": null,
       "max_height": null,
       "max_width": null,
       "min_height": null,
       "min_width": null,
       "object_fit": null,
       "object_position": null,
       "order": null,
       "overflow": null,
       "padding": null,
       "right": null,
       "top": null,
       "visibility": null,
       "width": null
      }
     },
     "8047d939c1904d23924210426bd194f0": {
      "model_module": "@jupyter-widgets/controls",
      "model_module_version": "2.0.0",
      "model_name": "HTMLStyleModel",
      "state": {
       "_model_module": "@jupyter-widgets/controls",
       "_model_module_version": "2.0.0",
       "_model_name": "HTMLStyleModel",
       "_view_count": null,
       "_view_module": "@jupyter-widgets/base",
       "_view_module_version": "2.0.0",
       "_view_name": "StyleView",
       "background": null,
       "description_width": "",
       "font_size": null,
       "text_color": null
      }
     },
     "82b2c122361a4e1289e02f886d4dca95": {
      "model_module": "@jupyter-widgets/controls",
      "model_module_version": "2.0.0",
      "model_name": "HTMLStyleModel",
      "state": {
       "_model_module": "@jupyter-widgets/controls",
       "_model_module_version": "2.0.0",
       "_model_name": "HTMLStyleModel",
       "_view_count": null,
       "_view_module": "@jupyter-widgets/base",
       "_view_module_version": "2.0.0",
       "_view_name": "StyleView",
       "background": null,
       "description_width": "",
       "font_size": null,
       "text_color": null
      }
     },
     "870221dea0384c89892e0a2de8dcadd2": {
      "model_module": "@jupyter-widgets/controls",
      "model_module_version": "2.0.0",
      "model_name": "FloatProgressModel",
      "state": {
       "_dom_classes": [],
       "_model_module": "@jupyter-widgets/controls",
       "_model_module_version": "2.0.0",
       "_model_name": "FloatProgressModel",
       "_view_count": null,
       "_view_module": "@jupyter-widgets/controls",
       "_view_module_version": "2.0.0",
       "_view_name": "ProgressView",
       "bar_style": "success",
       "description": "",
       "description_allow_html": false,
       "layout": "IPY_MODEL_1062f8018aca442d912bff94ca1c0474",
       "max": 1.0,
       "min": 0.0,
       "orientation": "horizontal",
       "style": "IPY_MODEL_c85b7053657a4376ae5c785d031fcbf8",
       "tabbable": null,
       "tooltip": null,
       "value": 1.0
      }
     },
     "8810394f5ae643fc806db410d2318384": {
      "model_module": "@jupyter-widgets/controls",
      "model_module_version": "2.0.0",
      "model_name": "HTMLStyleModel",
      "state": {
       "_model_module": "@jupyter-widgets/controls",
       "_model_module_version": "2.0.0",
       "_model_name": "HTMLStyleModel",
       "_view_count": null,
       "_view_module": "@jupyter-widgets/base",
       "_view_module_version": "2.0.0",
       "_view_name": "StyleView",
       "background": null,
       "description_width": "",
       "font_size": null,
       "text_color": null
      }
     },
     "8ee7e839a3bd4397b826c9da647e4488": {
      "model_module": "@jupyter-widgets/controls",
      "model_module_version": "2.0.0",
      "model_name": "HBoxModel",
      "state": {
       "_dom_classes": [],
       "_model_module": "@jupyter-widgets/controls",
       "_model_module_version": "2.0.0",
       "_model_name": "HBoxModel",
       "_view_count": null,
       "_view_module": "@jupyter-widgets/controls",
       "_view_module_version": "2.0.0",
       "_view_name": "HBoxView",
       "box_style": "",
       "children": [
        "IPY_MODEL_9e2c180884a14414bb63f0825b9072bf",
        "IPY_MODEL_520fafee73164f2894933411f2a870ec",
        "IPY_MODEL_5c8f7393f6094eb1a5564eebbb54d8a2"
       ],
       "layout": "IPY_MODEL_69a8f8142e954dc3a464cd45f5a1b828",
       "tabbable": null,
       "tooltip": null
      }
     },
     "8ff161f3a1494ca5a3da9f180d130256": {
      "model_module": "@jupyter-widgets/controls",
      "model_module_version": "2.0.0",
      "model_name": "HTMLStyleModel",
      "state": {
       "_model_module": "@jupyter-widgets/controls",
       "_model_module_version": "2.0.0",
       "_model_name": "HTMLStyleModel",
       "_view_count": null,
       "_view_module": "@jupyter-widgets/base",
       "_view_module_version": "2.0.0",
       "_view_name": "StyleView",
       "background": null,
       "description_width": "",
       "font_size": null,
       "text_color": null
      }
     },
     "9bff289a405c4687a7f7a4bab1335cca": {
      "model_module": "@jupyter-widgets/base",
      "model_module_version": "2.0.0",
      "model_name": "LayoutModel",
      "state": {
       "_model_module": "@jupyter-widgets/base",
       "_model_module_version": "2.0.0",
       "_model_name": "LayoutModel",
       "_view_count": null,
       "_view_module": "@jupyter-widgets/base",
       "_view_module_version": "2.0.0",
       "_view_name": "LayoutView",
       "align_content": null,
       "align_items": null,
       "align_self": null,
       "border_bottom": null,
       "border_left": null,
       "border_right": null,
       "border_top": null,
       "bottom": null,
       "display": null,
       "flex": null,
       "flex_flow": null,
       "grid_area": null,
       "grid_auto_columns": null,
       "grid_auto_flow": null,
       "grid_auto_rows": null,
       "grid_column": null,
       "grid_gap": null,
       "grid_row": null,
       "grid_template_areas": null,
       "grid_template_columns": null,
       "grid_template_rows": null,
       "height": null,
       "justify_content": null,
       "justify_items": null,
       "left": null,
       "margin": null,
       "max_height": null,
       "max_width": null,
       "min_height": null,
       "min_width": null,
       "object_fit": null,
       "object_position": null,
       "order": null,
       "overflow": null,
       "padding": null,
       "right": null,
       "top": null,
       "visibility": null,
       "width": null
      }
     },
     "9e2c180884a14414bb63f0825b9072bf": {
      "model_module": "@jupyter-widgets/controls",
      "model_module_version": "2.0.0",
      "model_name": "HTMLModel",
      "state": {
       "_dom_classes": [],
       "_model_module": "@jupyter-widgets/controls",
       "_model_module_version": "2.0.0",
       "_model_name": "HTMLModel",
       "_view_count": null,
       "_view_module": "@jupyter-widgets/controls",
       "_view_module_version": "2.0.0",
       "_view_name": "HTMLView",
       "description": "",
       "description_allow_html": false,
       "layout": "IPY_MODEL_05cace86ecaf4bb78ca63407fa75da0d",
       "placeholder": "​",
       "style": "IPY_MODEL_05ee8c187a324334956131c866eb1aff",
       "tabbable": null,
       "tooltip": null,
       "value": "Generating splits...: 100%"
      }
     },
     "9efd63c7760f4b6dad448c5ed7a2c1cb": {
      "model_module": "@jupyter-widgets/base",
      "model_module_version": "2.0.0",
      "model_name": "LayoutModel",
      "state": {
       "_model_module": "@jupyter-widgets/base",
       "_model_module_version": "2.0.0",
       "_model_name": "LayoutModel",
       "_view_count": null,
       "_view_module": "@jupyter-widgets/base",
       "_view_module_version": "2.0.0",
       "_view_name": "LayoutView",
       "align_content": null,
       "align_items": null,
       "align_self": null,
       "border_bottom": null,
       "border_left": null,
       "border_right": null,
       "border_top": null,
       "bottom": null,
       "display": null,
       "flex": null,
       "flex_flow": null,
       "grid_area": null,
       "grid_auto_columns": null,
       "grid_auto_flow": null,
       "grid_auto_rows": null,
       "grid_column": null,
       "grid_gap": null,
       "grid_row": null,
       "grid_template_areas": null,
       "grid_template_columns": null,
       "grid_template_rows": null,
       "height": null,
       "justify_content": null,
       "justify_items": null,
       "left": null,
       "margin": null,
       "max_height": null,
       "max_width": null,
       "min_height": null,
       "min_width": null,
       "object_fit": null,
       "object_position": null,
       "order": null,
       "overflow": null,
       "padding": null,
       "right": null,
       "top": null,
       "visibility": null,
       "width": null
      }
     },
     "9ff44a13714346efba7dfb5e1634c774": {
      "model_module": "@jupyter-widgets/base",
      "model_module_version": "2.0.0",
      "model_name": "LayoutModel",
      "state": {
       "_model_module": "@jupyter-widgets/base",
       "_model_module_version": "2.0.0",
       "_model_name": "LayoutModel",
       "_view_count": null,
       "_view_module": "@jupyter-widgets/base",
       "_view_module_version": "2.0.0",
       "_view_name": "LayoutView",
       "align_content": null,
       "align_items": null,
       "align_self": null,
       "border_bottom": null,
       "border_left": null,
       "border_right": null,
       "border_top": null,
       "bottom": null,
       "display": null,
       "flex": null,
       "flex_flow": null,
       "grid_area": null,
       "grid_auto_columns": null,
       "grid_auto_flow": null,
       "grid_auto_rows": null,
       "grid_column": null,
       "grid_gap": null,
       "grid_row": null,
       "grid_template_areas": null,
       "grid_template_columns": null,
       "grid_template_rows": null,
       "height": null,
       "justify_content": null,
       "justify_items": null,
       "left": null,
       "margin": null,
       "max_height": null,
       "max_width": null,
       "min_height": null,
       "min_width": null,
       "object_fit": null,
       "object_position": null,
       "order": null,
       "overflow": null,
       "padding": null,
       "right": null,
       "top": null,
       "visibility": null,
       "width": null
      }
     },
     "a28fbc8eb644431eaa561c4c5954bf0a": {
      "model_module": "@jupyter-widgets/base",
      "model_module_version": "2.0.0",
      "model_name": "LayoutModel",
      "state": {
       "_model_module": "@jupyter-widgets/base",
       "_model_module_version": "2.0.0",
       "_model_name": "LayoutModel",
       "_view_count": null,
       "_view_module": "@jupyter-widgets/base",
       "_view_module_version": "2.0.0",
       "_view_name": "LayoutView",
       "align_content": null,
       "align_items": null,
       "align_self": null,
       "border_bottom": null,
       "border_left": null,
       "border_right": null,
       "border_top": null,
       "bottom": null,
       "display": null,
       "flex": null,
       "flex_flow": null,
       "grid_area": null,
       "grid_auto_columns": null,
       "grid_auto_flow": null,
       "grid_auto_rows": null,
       "grid_column": null,
       "grid_gap": null,
       "grid_row": null,
       "grid_template_areas": null,
       "grid_template_columns": null,
       "grid_template_rows": null,
       "height": null,
       "justify_content": null,
       "justify_items": null,
       "left": null,
       "margin": null,
       "max_height": null,
       "max_width": null,
       "min_height": null,
       "min_width": null,
       "object_fit": null,
       "object_position": null,
       "order": null,
       "overflow": null,
       "padding": null,
       "right": null,
       "top": null,
       "visibility": "hidden",
       "width": null
      }
     },
     "a4bcb020c632485eb983b1981f5da7c8": {
      "model_module": "@jupyter-widgets/controls",
      "model_module_version": "2.0.0",
      "model_name": "ProgressStyleModel",
      "state": {
       "_model_module": "@jupyter-widgets/controls",
       "_model_module_version": "2.0.0",
       "_model_name": "ProgressStyleModel",
       "_view_count": null,
       "_view_module": "@jupyter-widgets/base",
       "_view_module_version": "2.0.0",
       "_view_name": "StyleView",
       "bar_color": null,
       "description_width": ""
      }
     },
     "a8b3c5c212d349fab10458747fbc7eb9": {
      "model_module": "@jupyter-widgets/base",
      "model_module_version": "2.0.0",
      "model_name": "LayoutModel",
      "state": {
       "_model_module": "@jupyter-widgets/base",
       "_model_module_version": "2.0.0",
       "_model_name": "LayoutModel",
       "_view_count": null,
       "_view_module": "@jupyter-widgets/base",
       "_view_module_version": "2.0.0",
       "_view_name": "LayoutView",
       "align_content": null,
       "align_items": null,
       "align_self": null,
       "border_bottom": null,
       "border_left": null,
       "border_right": null,
       "border_top": null,
       "bottom": null,
       "display": null,
       "flex": null,
       "flex_flow": null,
       "grid_area": null,
       "grid_auto_columns": null,
       "grid_auto_flow": null,
       "grid_auto_rows": null,
       "grid_column": null,
       "grid_gap": null,
       "grid_row": null,
       "grid_template_areas": null,
       "grid_template_columns": null,
       "grid_template_rows": null,
       "height": null,
       "justify_content": null,
       "justify_items": null,
       "left": null,
       "margin": null,
       "max_height": null,
       "max_width": null,
       "min_height": null,
       "min_width": null,
       "object_fit": null,
       "object_position": null,
       "order": null,
       "overflow": null,
       "padding": null,
       "right": null,
       "top": null,
       "visibility": null,
       "width": null
      }
     },
     "a8ce46f844e24662aee91cdaa3283ba6": {
      "model_module": "@jupyter-widgets/controls",
      "model_module_version": "2.0.0",
      "model_name": "HTMLModel",
      "state": {
       "_dom_classes": [],
       "_model_module": "@jupyter-widgets/controls",
       "_model_module_version": "2.0.0",
       "_model_name": "HTMLModel",
       "_view_count": null,
       "_view_module": "@jupyter-widgets/controls",
       "_view_module_version": "2.0.0",
       "_view_name": "HTMLView",
       "description": "",
       "description_allow_html": false,
       "layout": "IPY_MODEL_bf699388bd4841b992eb93ddb094be7c",
       "placeholder": "​",
       "style": "IPY_MODEL_d4e4afbcd98f407da9e7df547fb0d400",
       "tabbable": null,
       "tooltip": null,
       "value": "Generating train examples...: "
      }
     },
     "ab3f67bbd9e14e64a610cf5bd5f8bb47": {
      "model_module": "@jupyter-widgets/controls",
      "model_module_version": "2.0.0",
      "model_name": "HTMLModel",
      "state": {
       "_dom_classes": [],
       "_model_module": "@jupyter-widgets/controls",
       "_model_module_version": "2.0.0",
       "_model_name": "HTMLModel",
       "_view_count": null,
       "_view_module": "@jupyter-widgets/controls",
       "_view_module_version": "2.0.0",
       "_view_name": "HTMLView",
       "description": "",
       "description_allow_html": false,
       "layout": "IPY_MODEL_daf8cdbf3e2d4cbba76e5765bf4a5ad6",
       "placeholder": "​",
       "style": "IPY_MODEL_82b2c122361a4e1289e02f886d4dca95",
       "tabbable": null,
       "tooltip": null,
       "value": "Generating test examples...: "
      }
     },
     "ad694db6ca1447b797ceae70448c75e9": {
      "model_module": "@jupyter-widgets/controls",
      "model_module_version": "2.0.0",
      "model_name": "FloatProgressModel",
      "state": {
       "_dom_classes": [],
       "_model_module": "@jupyter-widgets/controls",
       "_model_module_version": "2.0.0",
       "_model_name": "FloatProgressModel",
       "_view_count": null,
       "_view_module": "@jupyter-widgets/controls",
       "_view_module_version": "2.0.0",
       "_view_name": "ProgressView",
       "bar_style": "success",
       "description": "",
       "description_allow_html": false,
       "layout": "IPY_MODEL_3cd8fccfc5864ab78f5097f95eafdeea",
       "max": 1.0,
       "min": 0.0,
       "orientation": "horizontal",
       "style": "IPY_MODEL_a4bcb020c632485eb983b1981f5da7c8",
       "tabbable": null,
       "tooltip": null,
       "value": 1.0
      }
     },
     "bd713621f4604b70938bb004eee13d35": {
      "model_module": "@jupyter-widgets/controls",
      "model_module_version": "2.0.0",
      "model_name": "HBoxModel",
      "state": {
       "_dom_classes": [],
       "_model_module": "@jupyter-widgets/controls",
       "_model_module_version": "2.0.0",
       "_model_name": "HBoxModel",
       "_view_count": null,
       "_view_module": "@jupyter-widgets/controls",
       "_view_module_version": "2.0.0",
       "_view_name": "HBoxView",
       "box_style": "",
       "children": [
        "IPY_MODEL_d31e11c0e4a74d078bd48c8940ce2297",
        "IPY_MODEL_870221dea0384c89892e0a2de8dcadd2",
        "IPY_MODEL_befe913faf204f8ba6d3544c193da9dd"
       ],
       "layout": "IPY_MODEL_3980c89a5c4e4b70ba02f2b3317f4d4d",
       "tabbable": null,
       "tooltip": null
      }
     },
     "befe913faf204f8ba6d3544c193da9dd": {
      "model_module": "@jupyter-widgets/controls",
      "model_module_version": "2.0.0",
      "model_name": "HTMLModel",
      "state": {
       "_dom_classes": [],
       "_model_module": "@jupyter-widgets/controls",
       "_model_module_version": "2.0.0",
       "_model_name": "HTMLModel",
       "_view_count": null,
       "_view_module": "@jupyter-widgets/controls",
       "_view_module_version": "2.0.0",
       "_view_name": "HTMLView",
       "description": "",
       "description_allow_html": false,
       "layout": "IPY_MODEL_f8ee08330a8c47daafa7ce80b9796c80",
       "placeholder": "​",
       "style": "IPY_MODEL_8810394f5ae643fc806db410d2318384",
       "tabbable": null,
       "tooltip": null,
       "value": " 4/4 [00:23&lt;00:00,  1.96s/ url]"
      }
     },
     "bf699388bd4841b992eb93ddb094be7c": {
      "model_module": "@jupyter-widgets/base",
      "model_module_version": "2.0.0",
      "model_name": "LayoutModel",
      "state": {
       "_model_module": "@jupyter-widgets/base",
       "_model_module_version": "2.0.0",
       "_model_name": "LayoutModel",
       "_view_count": null,
       "_view_module": "@jupyter-widgets/base",
       "_view_module_version": "2.0.0",
       "_view_name": "LayoutView",
       "align_content": null,
       "align_items": null,
       "align_self": null,
       "border_bottom": null,
       "border_left": null,
       "border_right": null,
       "border_top": null,
       "bottom": null,
       "display": null,
       "flex": null,
       "flex_flow": null,
       "grid_area": null,
       "grid_auto_columns": null,
       "grid_auto_flow": null,
       "grid_auto_rows": null,
       "grid_column": null,
       "grid_gap": null,
       "grid_row": null,
       "grid_template_areas": null,
       "grid_template_columns": null,
       "grid_template_rows": null,
       "height": null,
       "justify_content": null,
       "justify_items": null,
       "left": null,
       "margin": null,
       "max_height": null,
       "max_width": null,
       "min_height": null,
       "min_width": null,
       "object_fit": null,
       "object_position": null,
       "order": null,
       "overflow": null,
       "padding": null,
       "right": null,
       "top": null,
       "visibility": null,
       "width": null
      }
     },
     "c0f26a5efd124cc29742beb020fda20b": {
      "model_module": "@jupyter-widgets/controls",
      "model_module_version": "2.0.0",
      "model_name": "ProgressStyleModel",
      "state": {
       "_model_module": "@jupyter-widgets/controls",
       "_model_module_version": "2.0.0",
       "_model_name": "ProgressStyleModel",
       "_view_count": null,
       "_view_module": "@jupyter-widgets/base",
       "_view_module_version": "2.0.0",
       "_view_name": "StyleView",
       "bar_color": null,
       "description_width": ""
      }
     },
     "c25d182d87e849819308422822fdd332": {
      "model_module": "@jupyter-widgets/base",
      "model_module_version": "2.0.0",
      "model_name": "LayoutModel",
      "state": {
       "_model_module": "@jupyter-widgets/base",
       "_model_module_version": "2.0.0",
       "_model_name": "LayoutModel",
       "_view_count": null,
       "_view_module": "@jupyter-widgets/base",
       "_view_module_version": "2.0.0",
       "_view_name": "LayoutView",
       "align_content": null,
       "align_items": null,
       "align_self": null,
       "border_bottom": null,
       "border_left": null,
       "border_right": null,
       "border_top": null,
       "bottom": null,
       "display": null,
       "flex": null,
       "flex_flow": null,
       "grid_area": null,
       "grid_auto_columns": null,
       "grid_auto_flow": null,
       "grid_auto_rows": null,
       "grid_column": null,
       "grid_gap": null,
       "grid_row": null,
       "grid_template_areas": null,
       "grid_template_columns": null,
       "grid_template_rows": null,
       "height": null,
       "justify_content": null,
       "justify_items": null,
       "left": null,
       "margin": null,
       "max_height": null,
       "max_width": null,
       "min_height": null,
       "min_width": null,
       "object_fit": null,
       "object_position": null,
       "order": null,
       "overflow": null,
       "padding": null,
       "right": null,
       "top": null,
       "visibility": null,
       "width": null
      }
     },
     "c85b7053657a4376ae5c785d031fcbf8": {
      "model_module": "@jupyter-widgets/controls",
      "model_module_version": "2.0.0",
      "model_name": "ProgressStyleModel",
      "state": {
       "_model_module": "@jupyter-widgets/controls",
       "_model_module_version": "2.0.0",
       "_model_name": "ProgressStyleModel",
       "_view_count": null,
       "_view_module": "@jupyter-widgets/base",
       "_view_module_version": "2.0.0",
       "_view_name": "StyleView",
       "bar_color": null,
       "description_width": ""
      }
     },
     "c8914823f0bd4019b290297b08852770": {
      "model_module": "@jupyter-widgets/controls",
      "model_module_version": "2.0.0",
      "model_name": "FloatProgressModel",
      "state": {
       "_dom_classes": [],
       "_model_module": "@jupyter-widgets/controls",
       "_model_module_version": "2.0.0",
       "_model_name": "FloatProgressModel",
       "_view_count": null,
       "_view_module": "@jupyter-widgets/controls",
       "_view_module_version": "2.0.0",
       "_view_name": "ProgressView",
       "bar_style": "info",
       "description": "",
       "description_allow_html": false,
       "layout": "IPY_MODEL_0136e78085a14ecdbc4d700e9a21115c",
       "max": 1.0,
       "min": 0.0,
       "orientation": "horizontal",
       "style": "IPY_MODEL_153f360082e94ddf80940e7974eb008f",
       "tabbable": null,
       "tooltip": null,
       "value": 1.0
      }
     },
     "cc3bfdea39dc4800a13bceb2b9384d88": {
      "model_module": "@jupyter-widgets/controls",
      "model_module_version": "2.0.0",
      "model_name": "HTMLModel",
      "state": {
       "_dom_classes": [],
       "_model_module": "@jupyter-widgets/controls",
       "_model_module_version": "2.0.0",
       "_model_name": "HTMLModel",
       "_view_count": null,
       "_view_module": "@jupyter-widgets/controls",
       "_view_module_version": "2.0.0",
       "_view_name": "HTMLView",
       "description": "",
       "description_allow_html": false,
       "layout": "IPY_MODEL_c25d182d87e849819308422822fdd332",
       "placeholder": "​",
       "style": "IPY_MODEL_f21e01789b0248fe866a2f465f3603ce",
       "tabbable": null,
       "tooltip": null,
       "value": " 4/4 [00:23&lt;00:00, 22.66s/ file]"
      }
     },
     "cce7867da5f245f49c93f906357c3fb1": {
      "model_module": "@jupyter-widgets/controls",
      "model_module_version": "2.0.0",
      "model_name": "HTMLModel",
      "state": {
       "_dom_classes": [],
       "_model_module": "@jupyter-widgets/controls",
       "_model_module_version": "2.0.0",
       "_model_name": "HTMLModel",
       "_view_count": null,
       "_view_module": "@jupyter-widgets/controls",
       "_view_module_version": "2.0.0",
       "_view_name": "HTMLView",
       "description": "",
       "description_allow_html": false,
       "layout": "IPY_MODEL_446df2e7b1fc49c0b4d23e7d6adb8ef7",
       "placeholder": "​",
       "style": "IPY_MODEL_d3473f5e89234f6e965112f1514c551c",
       "tabbable": null,
       "tooltip": null,
       "value": " 10/10 [00:23&lt;00:00,  1.07s/ MiB]"
      }
     },
     "cd25cbb84a3140bd947d38ffa588b449": {
      "model_module": "@jupyter-widgets/base",
      "model_module_version": "2.0.0",
      "model_name": "LayoutModel",
      "state": {
       "_model_module": "@jupyter-widgets/base",
       "_model_module_version": "2.0.0",
       "_model_name": "LayoutModel",
       "_view_count": null,
       "_view_module": "@jupyter-widgets/base",
       "_view_module_version": "2.0.0",
       "_view_name": "LayoutView",
       "align_content": null,
       "align_items": null,
       "align_self": null,
       "border_bottom": null,
       "border_left": null,
       "border_right": null,
       "border_top": null,
       "bottom": null,
       "display": null,
       "flex": null,
       "flex_flow": null,
       "grid_area": null,
       "grid_auto_columns": null,
       "grid_auto_flow": null,
       "grid_auto_rows": null,
       "grid_column": null,
       "grid_gap": null,
       "grid_row": null,
       "grid_template_areas": null,
       "grid_template_columns": null,
       "grid_template_rows": null,
       "height": null,
       "justify_content": null,
       "justify_items": null,
       "left": null,
       "margin": null,
       "max_height": null,
       "max_width": null,
       "min_height": null,
       "min_width": null,
       "object_fit": null,
       "object_position": null,
       "order": null,
       "overflow": null,
       "padding": null,
       "right": null,
       "top": null,
       "visibility": null,
       "width": null
      }
     },
     "cdc0b7df997e4ecfb12b380c3ab746bb": {
      "model_module": "@jupyter-widgets/controls",
      "model_module_version": "2.0.0",
      "model_name": "FloatProgressModel",
      "state": {
       "_dom_classes": [],
       "_model_module": "@jupyter-widgets/controls",
       "_model_module_version": "2.0.0",
       "_model_name": "FloatProgressModel",
       "_view_count": null,
       "_view_module": "@jupyter-widgets/controls",
       "_view_module_version": "2.0.0",
       "_view_name": "ProgressView",
       "bar_style": "info",
       "description": "",
       "description_allow_html": false,
       "layout": "IPY_MODEL_1b98165942b24997a6021f718a803866",
       "max": 1.0,
       "min": 0.0,
       "orientation": "horizontal",
       "style": "IPY_MODEL_c0f26a5efd124cc29742beb020fda20b",
       "tabbable": null,
       "tooltip": null,
       "value": 1.0
      }
     },
     "d31e11c0e4a74d078bd48c8940ce2297": {
      "model_module": "@jupyter-widgets/controls",
      "model_module_version": "2.0.0",
      "model_name": "HTMLModel",
      "state": {
       "_dom_classes": [],
       "_model_module": "@jupyter-widgets/controls",
       "_model_module_version": "2.0.0",
       "_model_name": "HTMLModel",
       "_view_count": null,
       "_view_module": "@jupyter-widgets/controls",
       "_view_module_version": "2.0.0",
       "_view_name": "HTMLView",
       "description": "",
       "description_allow_html": false,
       "layout": "IPY_MODEL_223f9d3e23fd4ca185b008e31301f177",
       "placeholder": "​",
       "style": "IPY_MODEL_8047d939c1904d23924210426bd194f0",
       "tabbable": null,
       "tooltip": null,
       "value": "Dl Completed...: 100%"
      }
     },
     "d3473f5e89234f6e965112f1514c551c": {
      "model_module": "@jupyter-widgets/controls",
      "model_module_version": "2.0.0",
      "model_name": "HTMLStyleModel",
      "state": {
       "_model_module": "@jupyter-widgets/controls",
       "_model_module_version": "2.0.0",
       "_model_name": "HTMLStyleModel",
       "_view_count": null,
       "_view_module": "@jupyter-widgets/base",
       "_view_module_version": "2.0.0",
       "_view_name": "StyleView",
       "background": null,
       "description_width": "",
       "font_size": null,
       "text_color": null
      }
     },
     "d4e4afbcd98f407da9e7df547fb0d400": {
      "model_module": "@jupyter-widgets/controls",
      "model_module_version": "2.0.0",
      "model_name": "HTMLStyleModel",
      "state": {
       "_model_module": "@jupyter-widgets/controls",
       "_model_module_version": "2.0.0",
       "_model_name": "HTMLStyleModel",
       "_view_count": null,
       "_view_module": "@jupyter-widgets/base",
       "_view_module_version": "2.0.0",
       "_view_name": "StyleView",
       "background": null,
       "description_width": "",
       "font_size": null,
       "text_color": null
      }
     },
     "d64c5de3d4cb4800a02e38c5db641541": {
      "model_module": "@jupyter-widgets/controls",
      "model_module_version": "2.0.0",
      "model_name": "HTMLModel",
      "state": {
       "_dom_classes": [],
       "_model_module": "@jupyter-widgets/controls",
       "_model_module_version": "2.0.0",
       "_model_name": "HTMLModel",
       "_view_count": null,
       "_view_module": "@jupyter-widgets/controls",
       "_view_module_version": "2.0.0",
       "_view_name": "HTMLView",
       "description": "",
       "description_allow_html": false,
       "layout": "IPY_MODEL_9efd63c7760f4b6dad448c5ed7a2c1cb",
       "placeholder": "​",
       "style": "IPY_MODEL_0f92f2244a004ade896ea3ec1af542c1",
       "tabbable": null,
       "tooltip": null,
       "value": " 57225/? [00:20&lt;00:00, 2861.10 examples/s]"
      }
     },
     "da201f145134431f8c305096bded617a": {
      "model_module": "@jupyter-widgets/base",
      "model_module_version": "2.0.0",
      "model_name": "LayoutModel",
      "state": {
       "_model_module": "@jupyter-widgets/base",
       "_model_module_version": "2.0.0",
       "_model_name": "LayoutModel",
       "_view_count": null,
       "_view_module": "@jupyter-widgets/base",
       "_view_module_version": "2.0.0",
       "_view_name": "LayoutView",
       "align_content": null,
       "align_items": null,
       "align_self": null,
       "border_bottom": null,
       "border_left": null,
       "border_right": null,
       "border_top": null,
       "bottom": null,
       "display": null,
       "flex": null,
       "flex_flow": null,
       "grid_area": null,
       "grid_auto_columns": null,
       "grid_auto_flow": null,
       "grid_auto_rows": null,
       "grid_column": null,
       "grid_gap": null,
       "grid_row": null,
       "grid_template_areas": null,
       "grid_template_columns": null,
       "grid_template_rows": null,
       "height": null,
       "justify_content": null,
       "justify_items": null,
       "left": null,
       "margin": null,
       "max_height": null,
       "max_width": null,
       "min_height": null,
       "min_width": null,
       "object_fit": null,
       "object_position": null,
       "order": null,
       "overflow": null,
       "padding": null,
       "right": null,
       "top": null,
       "visibility": null,
       "width": "20px"
      }
     },
     "daf8cdbf3e2d4cbba76e5765bf4a5ad6": {
      "model_module": "@jupyter-widgets/base",
      "model_module_version": "2.0.0",
      "model_name": "LayoutModel",
      "state": {
       "_model_module": "@jupyter-widgets/base",
       "_model_module_version": "2.0.0",
       "_model_name": "LayoutModel",
       "_view_count": null,
       "_view_module": "@jupyter-widgets/base",
       "_view_module_version": "2.0.0",
       "_view_name": "LayoutView",
       "align_content": null,
       "align_items": null,
       "align_self": null,
       "border_bottom": null,
       "border_left": null,
       "border_right": null,
       "border_top": null,
       "bottom": null,
       "display": null,
       "flex": null,
       "flex_flow": null,
       "grid_area": null,
       "grid_auto_columns": null,
       "grid_auto_flow": null,
       "grid_auto_rows": null,
       "grid_column": null,
       "grid_gap": null,
       "grid_row": null,
       "grid_template_areas": null,
       "grid_template_columns": null,
       "grid_template_rows": null,
       "height": null,
       "justify_content": null,
       "justify_items": null,
       "left": null,
       "margin": null,
       "max_height": null,
       "max_width": null,
       "min_height": null,
       "min_width": null,
       "object_fit": null,
       "object_position": null,
       "order": null,
       "overflow": null,
       "padding": null,
       "right": null,
       "top": null,
       "visibility": null,
       "width": null
      }
     },
     "ddd06a64c77645bca60f9b1c9ccc9e1c": {
      "model_module": "@jupyter-widgets/base",
      "model_module_version": "2.0.0",
      "model_name": "LayoutModel",
      "state": {
       "_model_module": "@jupyter-widgets/base",
       "_model_module_version": "2.0.0",
       "_model_name": "LayoutModel",
       "_view_count": null,
       "_view_module": "@jupyter-widgets/base",
       "_view_module_version": "2.0.0",
       "_view_name": "LayoutView",
       "align_content": null,
       "align_items": null,
       "align_self": null,
       "border_bottom": null,
       "border_left": null,
       "border_right": null,
       "border_top": null,
       "bottom": null,
       "display": null,
       "flex": null,
       "flex_flow": null,
       "grid_area": null,
       "grid_auto_columns": null,
       "grid_auto_flow": null,
       "grid_auto_rows": null,
       "grid_column": null,
       "grid_gap": null,
       "grid_row": null,
       "grid_template_areas": null,
       "grid_template_columns": null,
       "grid_template_rows": null,
       "height": null,
       "justify_content": null,
       "justify_items": null,
       "left": null,
       "margin": null,
       "max_height": null,
       "max_width": null,
       "min_height": null,
       "min_width": null,
       "object_fit": null,
       "object_position": null,
       "order": null,
       "overflow": null,
       "padding": null,
       "right": null,
       "top": null,
       "visibility": null,
       "width": null
      }
     },
     "dffdfae84db14e339582747b62b72188": {
      "model_module": "@jupyter-widgets/controls",
      "model_module_version": "2.0.0",
      "model_name": "HTMLModel",
      "state": {
       "_dom_classes": [],
       "_model_module": "@jupyter-widgets/controls",
       "_model_module_version": "2.0.0",
       "_model_name": "HTMLModel",
       "_view_count": null,
       "_view_module": "@jupyter-widgets/controls",
       "_view_module_version": "2.0.0",
       "_view_name": "HTMLView",
       "description": "",
       "description_allow_html": false,
       "layout": "IPY_MODEL_3d1bce728100427ca0c594fd3b7e2e46",
       "placeholder": "​",
       "style": "IPY_MODEL_069e699672a641d2bc8c808770182155",
       "tabbable": null,
       "tooltip": null,
       "value": "Shuffling /root/tensorflow_datasets/mnist/incomplete.6NG3OA_3.0.1/mnist-train.tfrecord*...:   0%"
      }
     },
     "e320c556c58d4a9b8837471b5d27809b": {
      "model_module": "@jupyter-widgets/base",
      "model_module_version": "2.0.0",
      "model_name": "LayoutModel",
      "state": {
       "_model_module": "@jupyter-widgets/base",
       "_model_module_version": "2.0.0",
       "_model_name": "LayoutModel",
       "_view_count": null,
       "_view_module": "@jupyter-widgets/base",
       "_view_module_version": "2.0.0",
       "_view_name": "LayoutView",
       "align_content": null,
       "align_items": null,
       "align_self": null,
       "border_bottom": null,
       "border_left": null,
       "border_right": null,
       "border_top": null,
       "bottom": null,
       "display": null,
       "flex": null,
       "flex_flow": null,
       "grid_area": null,
       "grid_auto_columns": null,
       "grid_auto_flow": null,
       "grid_auto_rows": null,
       "grid_column": null,
       "grid_gap": null,
       "grid_row": null,
       "grid_template_areas": null,
       "grid_template_columns": null,
       "grid_template_rows": null,
       "height": null,
       "justify_content": null,
       "justify_items": null,
       "left": null,
       "margin": null,
       "max_height": null,
       "max_width": null,
       "min_height": null,
       "min_width": null,
       "object_fit": null,
       "object_position": null,
       "order": null,
       "overflow": null,
       "padding": null,
       "right": null,
       "top": null,
       "visibility": null,
       "width": null
      }
     },
     "e9e79eae63ec49cb9408ab3e26caa5d9": {
      "model_module": "@jupyter-widgets/controls",
      "model_module_version": "2.0.0",
      "model_name": "HBoxModel",
      "state": {
       "_dom_classes": [],
       "_model_module": "@jupyter-widgets/controls",
       "_model_module_version": "2.0.0",
       "_model_name": "HBoxModel",
       "_view_count": null,
       "_view_module": "@jupyter-widgets/controls",
       "_view_module_version": "2.0.0",
       "_view_name": "HBoxView",
       "box_style": "",
       "children": [
        "IPY_MODEL_a8ce46f844e24662aee91cdaa3283ba6",
        "IPY_MODEL_c8914823f0bd4019b290297b08852770",
        "IPY_MODEL_d64c5de3d4cb4800a02e38c5db641541"
       ],
       "layout": "IPY_MODEL_702610b48b594310b12f757d304bc4d5",
       "tabbable": null,
       "tooltip": null
      }
     },
     "f12b4e4fde9041ef8fd6e8f801d765e7": {
      "model_module": "@jupyter-widgets/base",
      "model_module_version": "2.0.0",
      "model_name": "LayoutModel",
      "state": {
       "_model_module": "@jupyter-widgets/base",
       "_model_module_version": "2.0.0",
       "_model_name": "LayoutModel",
       "_view_count": null,
       "_view_module": "@jupyter-widgets/base",
       "_view_module_version": "2.0.0",
       "_view_name": "LayoutView",
       "align_content": null,
       "align_items": null,
       "align_self": null,
       "border_bottom": null,
       "border_left": null,
       "border_right": null,
       "border_top": null,
       "bottom": null,
       "display": null,
       "flex": null,
       "flex_flow": null,
       "grid_area": null,
       "grid_auto_columns": null,
       "grid_auto_flow": null,
       "grid_auto_rows": null,
       "grid_column": null,
       "grid_gap": null,
       "grid_row": null,
       "grid_template_areas": null,
       "grid_template_columns": null,
       "grid_template_rows": null,
       "height": null,
       "justify_content": null,
       "justify_items": null,
       "left": null,
       "margin": null,
       "max_height": null,
       "max_width": null,
       "min_height": null,
       "min_width": null,
       "object_fit": null,
       "object_position": null,
       "order": null,
       "overflow": null,
       "padding": null,
       "right": null,
       "top": null,
       "visibility": "hidden",
       "width": null
      }
     },
     "f21e01789b0248fe866a2f465f3603ce": {
      "model_module": "@jupyter-widgets/controls",
      "model_module_version": "2.0.0",
      "model_name": "HTMLStyleModel",
      "state": {
       "_model_module": "@jupyter-widgets/controls",
       "_model_module_version": "2.0.0",
       "_model_name": "HTMLStyleModel",
       "_view_count": null,
       "_view_module": "@jupyter-widgets/base",
       "_view_module_version": "2.0.0",
       "_view_name": "StyleView",
       "background": null,
       "description_width": "",
       "font_size": null,
       "text_color": null
      }
     },
     "f5ea7a3e8bab4357afb1b8e947617a3b": {
      "model_module": "@jupyter-widgets/controls",
      "model_module_version": "2.0.0",
      "model_name": "HBoxModel",
      "state": {
       "_dom_classes": [],
       "_model_module": "@jupyter-widgets/controls",
       "_model_module_version": "2.0.0",
       "_model_name": "HBoxModel",
       "_view_count": null,
       "_view_module": "@jupyter-widgets/controls",
       "_view_module_version": "2.0.0",
       "_view_name": "HBoxView",
       "box_style": "",
       "children": [
        "IPY_MODEL_361793198ea4455293487e8dc72d9559",
        "IPY_MODEL_ad694db6ca1447b797ceae70448c75e9",
        "IPY_MODEL_cce7867da5f245f49c93f906357c3fb1"
       ],
       "layout": "IPY_MODEL_4e0073074cb14260b54a2f69e93ea4fd",
       "tabbable": null,
       "tooltip": null
      }
     },
     "f71570bbfdd646aab296d68a3b2478d3": {
      "model_module": "@jupyter-widgets/controls",
      "model_module_version": "2.0.0",
      "model_name": "ProgressStyleModel",
      "state": {
       "_model_module": "@jupyter-widgets/controls",
       "_model_module_version": "2.0.0",
       "_model_name": "ProgressStyleModel",
       "_view_count": null,
       "_view_module": "@jupyter-widgets/base",
       "_view_module_version": "2.0.0",
       "_view_name": "StyleView",
       "bar_color": null,
       "description_width": ""
      }
     },
     "f7340f30b7f84db5833f70b92249b677": {
      "model_module": "@jupyter-widgets/base",
      "model_module_version": "2.0.0",
      "model_name": "LayoutModel",
      "state": {
       "_model_module": "@jupyter-widgets/base",
       "_model_module_version": "2.0.0",
       "_model_name": "LayoutModel",
       "_view_count": null,
       "_view_module": "@jupyter-widgets/base",
       "_view_module_version": "2.0.0",
       "_view_name": "LayoutView",
       "align_content": null,
       "align_items": null,
       "align_self": null,
       "border_bottom": null,
       "border_left": null,
       "border_right": null,
       "border_top": null,
       "bottom": null,
       "display": null,
       "flex": null,
       "flex_flow": null,
       "grid_area": null,
       "grid_auto_columns": null,
       "grid_auto_flow": null,
       "grid_auto_rows": null,
       "grid_column": null,
       "grid_gap": null,
       "grid_row": null,
       "grid_template_areas": null,
       "grid_template_columns": null,
       "grid_template_rows": null,
       "height": null,
       "justify_content": null,
       "justify_items": null,
       "left": null,
       "margin": null,
       "max_height": null,
       "max_width": null,
       "min_height": null,
       "min_width": null,
       "object_fit": null,
       "object_position": null,
       "order": null,
       "overflow": null,
       "padding": null,
       "right": null,
       "top": null,
       "visibility": null,
       "width": null
      }
     },
     "f8ee08330a8c47daafa7ce80b9796c80": {
      "model_module": "@jupyter-widgets/base",
      "model_module_version": "2.0.0",
      "model_name": "LayoutModel",
      "state": {
       "_model_module": "@jupyter-widgets/base",
       "_model_module_version": "2.0.0",
       "_model_name": "LayoutModel",
       "_view_count": null,
       "_view_module": "@jupyter-widgets/base",
       "_view_module_version": "2.0.0",
       "_view_name": "LayoutView",
       "align_content": null,
       "align_items": null,
       "align_self": null,
       "border_bottom": null,
       "border_left": null,
       "border_right": null,
       "border_top": null,
       "bottom": null,
       "display": null,
       "flex": null,
       "flex_flow": null,
       "grid_area": null,
       "grid_auto_columns": null,
       "grid_auto_flow": null,
       "grid_auto_rows": null,
       "grid_column": null,
       "grid_gap": null,
       "grid_row": null,
       "grid_template_areas": null,
       "grid_template_columns": null,
       "grid_template_rows": null,
       "height": null,
       "justify_content": null,
       "justify_items": null,
       "left": null,
       "margin": null,
       "max_height": null,
       "max_width": null,
       "min_height": null,
       "min_width": null,
       "object_fit": null,
       "object_position": null,
       "order": null,
       "overflow": null,
       "padding": null,
       "right": null,
       "top": null,
       "visibility": null,
       "width": null
      }
     },
     "f9d0f09b0d5e47349cb2f5265371ee87": {
      "model_module": "@jupyter-widgets/controls",
      "model_module_version": "2.0.0",
      "model_name": "HBoxModel",
      "state": {
       "_dom_classes": [],
       "_model_module": "@jupyter-widgets/controls",
       "_model_module_version": "2.0.0",
       "_model_name": "HBoxModel",
       "_view_count": null,
       "_view_module": "@jupyter-widgets/controls",
       "_view_module_version": "2.0.0",
       "_view_name": "HBoxView",
       "box_style": "",
       "children": [
        "IPY_MODEL_6a2be0e7650244b6aeb020987fe48ee6",
        "IPY_MODEL_126b6a206df44e12ac1d8bcf965d77b9",
        "IPY_MODEL_cc3bfdea39dc4800a13bceb2b9384d88"
       ],
       "layout": "IPY_MODEL_e320c556c58d4a9b8837471b5d27809b",
       "tabbable": null,
       "tooltip": null
      }
     },
     "fb6bcd738b114907adac2830e8d55ad9": {
      "model_module": "@jupyter-widgets/controls",
      "model_module_version": "2.0.0",
      "model_name": "HTMLModel",
      "state": {
       "_dom_classes": [],
       "_model_module": "@jupyter-widgets/controls",
       "_model_module_version": "2.0.0",
       "_model_name": "HTMLModel",
       "_view_count": null,
       "_view_module": "@jupyter-widgets/controls",
       "_view_module_version": "2.0.0",
       "_view_name": "HTMLView",
       "description": "",
       "description_allow_html": false,
       "layout": "IPY_MODEL_9ff44a13714346efba7dfb5e1634c774",
       "placeholder": "​",
       "style": "IPY_MODEL_1a48042322264d00b2f56c688caeb66d",
       "tabbable": null,
       "tooltip": null,
       "value": "Shuffling /root/tensorflow_datasets/mnist/incomplete.6NG3OA_3.0.1/mnist-test.tfrecord*...:   0%"
      }
     }
    },
    "version_major": 2,
    "version_minor": 0
   }
  }
 },
 "nbformat": 4,
 "nbformat_minor": 5
}
